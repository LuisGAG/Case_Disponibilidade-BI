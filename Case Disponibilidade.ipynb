{
 "cells": [
  {
   "cell_type": "markdown",
   "id": "ff677b5f-19d1-45e1-bf15-9fe054c58012",
   "metadata": {},
   "source": [
    "# <font color='darkgreen' style='font-family:\"Times New Roman\"'>Case Disponibilidade</font>\n",
    "\n",
    "## <font color='gold' style='font-family:\"Times New Roman\"'>Luís Guilherme Astun Guedine</font>"
   ]
  },
  {
   "cell_type": "markdown",
   "id": "35cdf2a8-3562-4dee-a5c5-7de681de3ccb",
   "metadata": {},
   "source": [
    "### <font color='blue' style='font-family:\"Times New Roman\"'>Extração, Manipulação, Limpeza e União</font>\n",
    "\n",
    "#### <font color='orange' style='font-family:\"Times New Roman\"'>Em todas as etapas de tratamento de dados várias visualizações distintas foram feitas, a fim de compreender qual a melhor forma de serguir com a análise.</font>\n",
    "#### <font color='orange' style='font-family:\"Times New Roman\"'>As vizualizações foram removidas do código final, para reduzir o tempo de renderização e quantidade de informação exibida.</font>"
   ]
  },
  {
   "cell_type": "markdown",
   "id": "c802cafb-fb0c-438c-97dc-631050a48567",
   "metadata": {
    "tags": []
   },
   "source": [
    "#### Importar Bibliotecas e Extrair tabelas pkl excluindo linhas duplicadas"
   ]
  },
  {
   "cell_type": "code",
   "execution_count": 1,
   "id": "8cf9bc29-1558-474f-b38a-9efcddbbfc06",
   "metadata": {},
   "outputs": [
    {
     "name": "stdout",
     "output_type": "stream",
     "text": [
      "Wall time: 806 ms\n"
     ]
    }
   ],
   "source": [
    "%%time\n",
    "import pandas as pd\n",
    "import datetime as dt\n",
    "from datetime import datetime as dtm\n",
    "import dateutil.parser as dtpar\n",
    "\n",
    "EscalaPKL=pd.read_pickle(\"escala.pkl\")\n",
    "EscalaPKL=EscalaPKL.drop_duplicates()\n",
    "MembrosPKL=pd.read_pickle('membros.pkl')\n",
    "MembrosPKL=MembrosPKL.drop_duplicates()\n",
    "RelatorioPKL=pd.read_pickle('relatorio_log_in_e_out.pkl')\n",
    "RelatorioPKL=RelatorioPKL.drop_duplicates()"
   ]
  },
  {
   "cell_type": "code",
   "execution_count": 2,
   "id": "9ac7279e-9cd7-4071-b388-782dc4b731b5",
   "metadata": {},
   "outputs": [
    {
     "name": "stdout",
     "output_type": "stream",
     "text": [
      "Wall time: 430 ms\n"
     ]
    }
   ],
   "source": [
    "%%time\n",
    "#Importando Ferramentas Gráficas\n",
    "from numpy import mean\n",
    "from numpy import std\n",
    "from numpy import correlate\n",
    "from numpy.random import randn\n",
    "from numpy.random import seed\n",
    "from matplotlib import pyplot\n",
    "import plotly.express as px\n",
    "import numpy as np"
   ]
  },
  {
   "cell_type": "markdown",
   "id": "3798a6f7-e2b4-40dd-adc4-fd5c461d7f04",
   "metadata": {
    "tags": []
   },
   "source": [
    "##### Visualizar tabelas Importadas"
   ]
  },
  {
   "cell_type": "code",
   "execution_count": 3,
   "id": "14cc3fdb-5adf-4d4e-a889-03151210c318",
   "metadata": {},
   "outputs": [
    {
     "name": "stdout",
     "output_type": "stream",
     "text": [
      "Wall time: 0 ns\n"
     ]
    },
    {
     "data": {
      "text/html": [
       "<div>\n",
       "<style scoped>\n",
       "    .dataframe tbody tr th:only-of-type {\n",
       "        vertical-align: middle;\n",
       "    }\n",
       "\n",
       "    .dataframe tbody tr th {\n",
       "        vertical-align: top;\n",
       "    }\n",
       "\n",
       "    .dataframe thead th {\n",
       "        text-align: right;\n",
       "    }\n",
       "</style>\n",
       "<table border=\"1\" class=\"dataframe\">\n",
       "  <thead>\n",
       "    <tr style=\"text-align: right;\">\n",
       "      <th></th>\n",
       "      <th>member_id</th>\n",
       "      <th>shift_date</th>\n",
       "      <th>time_interval</th>\n",
       "      <th>original_status</th>\n",
       "      <th>change_status</th>\n",
       "      <th>resulting_status</th>\n",
       "    </tr>\n",
       "  </thead>\n",
       "  <tbody>\n",
       "    <tr>\n",
       "      <th>0</th>\n",
       "      <td>a1R3j0000043oF3EAI</td>\n",
       "      <td>2022-02-11</td>\n",
       "      <td>X9h30m_10h00m__c</td>\n",
       "      <td>A</td>\n",
       "      <td>None</td>\n",
       "      <td>A</td>\n",
       "    </tr>\n",
       "    <tr>\n",
       "      <th>1</th>\n",
       "      <td>a1R3j0000043s1iEAA</td>\n",
       "      <td>2022-02-14</td>\n",
       "      <td>X11h00m_11h30m__c</td>\n",
       "      <td>A</td>\n",
       "      <td>None</td>\n",
       "      <td>A</td>\n",
       "    </tr>\n",
       "    <tr>\n",
       "      <th>2</th>\n",
       "      <td>a1R3j000003gHOPEA2</td>\n",
       "      <td>2022-02-17</td>\n",
       "      <td>X19h00m_19h30m__c</td>\n",
       "      <td>A</td>\n",
       "      <td>None</td>\n",
       "      <td>A</td>\n",
       "    </tr>\n",
       "    <tr>\n",
       "      <th>3</th>\n",
       "      <td>a1R3j000003ncMhEAI</td>\n",
       "      <td>2022-02-21</td>\n",
       "      <td>X13h00m_13h30m__c</td>\n",
       "      <td>A</td>\n",
       "      <td>None</td>\n",
       "      <td>A</td>\n",
       "    </tr>\n",
       "    <tr>\n",
       "      <th>4</th>\n",
       "      <td>a1R1L000008ddqrUAA</td>\n",
       "      <td>2022-02-28</td>\n",
       "      <td>X1h30m_2h00m__c</td>\n",
       "      <td>None</td>\n",
       "      <td>FO</td>\n",
       "      <td>FO</td>\n",
       "    </tr>\n",
       "    <tr>\n",
       "      <th>...</th>\n",
       "      <td>...</td>\n",
       "      <td>...</td>\n",
       "      <td>...</td>\n",
       "      <td>...</td>\n",
       "      <td>...</td>\n",
       "      <td>...</td>\n",
       "    </tr>\n",
       "    <tr>\n",
       "      <th>239645</th>\n",
       "      <td>a1R3j000003gHJwEAM</td>\n",
       "      <td>2022-02-28</td>\n",
       "      <td>X14h30m_15h00m__c</td>\n",
       "      <td>A</td>\n",
       "      <td>FO</td>\n",
       "      <td>FO</td>\n",
       "    </tr>\n",
       "    <tr>\n",
       "      <th>239646</th>\n",
       "      <td>a1R3j000003gGIIEA2</td>\n",
       "      <td>2022-02-05</td>\n",
       "      <td>X12h00m_12h30m__c</td>\n",
       "      <td>None</td>\n",
       "      <td>A</td>\n",
       "      <td>A</td>\n",
       "    </tr>\n",
       "    <tr>\n",
       "      <th>239647</th>\n",
       "      <td>a1R3j000003gGImEAM</td>\n",
       "      <td>2022-02-28</td>\n",
       "      <td>X18h00m_18h30m__c</td>\n",
       "      <td>A</td>\n",
       "      <td>FO</td>\n",
       "      <td>FO</td>\n",
       "    </tr>\n",
       "    <tr>\n",
       "      <th>239648</th>\n",
       "      <td>a1R3j0000043sW5EAI</td>\n",
       "      <td>2022-02-15</td>\n",
       "      <td>X16h00m_16h30m__c</td>\n",
       "      <td>A</td>\n",
       "      <td>None</td>\n",
       "      <td>A</td>\n",
       "    </tr>\n",
       "    <tr>\n",
       "      <th>239649</th>\n",
       "      <td>a1R3j000003ndC6EAI</td>\n",
       "      <td>2022-02-04</td>\n",
       "      <td>X16h00m_16h30m__c</td>\n",
       "      <td>A</td>\n",
       "      <td>None</td>\n",
       "      <td>A</td>\n",
       "    </tr>\n",
       "  </tbody>\n",
       "</table>\n",
       "<p>239650 rows × 6 columns</p>\n",
       "</div>"
      ],
      "text/plain": [
       "                 member_id  shift_date      time_interval original_status  \\\n",
       "0       a1R3j0000043oF3EAI  2022-02-11   X9h30m_10h00m__c               A   \n",
       "1       a1R3j0000043s1iEAA  2022-02-14  X11h00m_11h30m__c               A   \n",
       "2       a1R3j000003gHOPEA2  2022-02-17  X19h00m_19h30m__c               A   \n",
       "3       a1R3j000003ncMhEAI  2022-02-21  X13h00m_13h30m__c               A   \n",
       "4       a1R1L000008ddqrUAA  2022-02-28    X1h30m_2h00m__c            None   \n",
       "...                    ...         ...                ...             ...   \n",
       "239645  a1R3j000003gHJwEAM  2022-02-28  X14h30m_15h00m__c               A   \n",
       "239646  a1R3j000003gGIIEA2  2022-02-05  X12h00m_12h30m__c            None   \n",
       "239647  a1R3j000003gGImEAM  2022-02-28  X18h00m_18h30m__c               A   \n",
       "239648  a1R3j0000043sW5EAI  2022-02-15  X16h00m_16h30m__c               A   \n",
       "239649  a1R3j000003ndC6EAI  2022-02-04  X16h00m_16h30m__c               A   \n",
       "\n",
       "       change_status resulting_status  \n",
       "0               None                A  \n",
       "1               None                A  \n",
       "2               None                A  \n",
       "3               None                A  \n",
       "4                 FO               FO  \n",
       "...              ...              ...  \n",
       "239645            FO               FO  \n",
       "239646             A                A  \n",
       "239647            FO               FO  \n",
       "239648          None                A  \n",
       "239649          None                A  \n",
       "\n",
       "[239650 rows x 6 columns]"
      ]
     },
     "execution_count": 3,
     "metadata": {},
     "output_type": "execute_result"
    }
   ],
   "source": [
    "%%time\n",
    "EscalaPKL"
   ]
  },
  {
   "cell_type": "code",
   "execution_count": 4,
   "id": "e346bf9a-3066-486b-83e2-27b9422f3331",
   "metadata": {},
   "outputs": [
    {
     "name": "stdout",
     "output_type": "stream",
     "text": [
      "Wall time: 0 ns\n"
     ]
    },
    {
     "data": {
      "text/html": [
       "<div>\n",
       "<style scoped>\n",
       "    .dataframe tbody tr th:only-of-type {\n",
       "        vertical-align: middle;\n",
       "    }\n",
       "\n",
       "    .dataframe tbody tr th {\n",
       "        vertical-align: top;\n",
       "    }\n",
       "\n",
       "    .dataframe thead th {\n",
       "        text-align: right;\n",
       "    }\n",
       "</style>\n",
       "<table border=\"1\" class=\"dataframe\">\n",
       "  <thead>\n",
       "    <tr style=\"text-align: right;\">\n",
       "      <th></th>\n",
       "      <th>member_id</th>\n",
       "      <th>Agente</th>\n",
       "      <th>Email</th>\n",
       "      <th>Data</th>\n",
       "      <th>Status</th>\n",
       "      <th>Time</th>\n",
       "      <th>Canal</th>\n",
       "      <th>Contrato</th>\n",
       "    </tr>\n",
       "  </thead>\n",
       "  <tbody>\n",
       "    <tr>\n",
       "      <th>0</th>\n",
       "      <td>a1R1L000008eTNNUA2</td>\n",
       "      <td>Warwick Steiger</td>\n",
       "      <td>warwick.steiger@casedisponibilidade.br</td>\n",
       "      <td>2022-02-02</td>\n",
       "      <td>Férias</td>\n",
       "      <td>Time2</td>\n",
       "      <td>Chat</td>\n",
       "      <td>CLT</td>\n",
       "    </tr>\n",
       "    <tr>\n",
       "      <th>1</th>\n",
       "      <td>a1R3j0000043rzdEAA</td>\n",
       "      <td>Hathcock Bias</td>\n",
       "      <td>hathcock.bias@casedisponibilidade.br</td>\n",
       "      <td>2022-02-01</td>\n",
       "      <td>Ativo</td>\n",
       "      <td>Time1</td>\n",
       "      <td>Chat</td>\n",
       "      <td>CLT</td>\n",
       "    </tr>\n",
       "    <tr>\n",
       "      <th>2</th>\n",
       "      <td>a1R3j000002b8bGEAQ</td>\n",
       "      <td>Callender Bradshaw</td>\n",
       "      <td>callender.bradshaw@casedisponibilidade.br</td>\n",
       "      <td>2022-02-24</td>\n",
       "      <td>Ativo</td>\n",
       "      <td>Time2</td>\n",
       "      <td>Chat</td>\n",
       "      <td>CLT</td>\n",
       "    </tr>\n",
       "    <tr>\n",
       "      <th>3</th>\n",
       "      <td>a1R3j000002bBodEAE</td>\n",
       "      <td>Duran Holland</td>\n",
       "      <td>duran.holland@casedisponibilidade.br</td>\n",
       "      <td>2022-02-25</td>\n",
       "      <td>Ativo</td>\n",
       "      <td>Time3</td>\n",
       "      <td>Chat</td>\n",
       "      <td>CLT</td>\n",
       "    </tr>\n",
       "    <tr>\n",
       "      <th>4</th>\n",
       "      <td>a1R3j000002b8arEAA</td>\n",
       "      <td>Pape Stock</td>\n",
       "      <td>pape.stock@casedisponibilidade.br</td>\n",
       "      <td>2022-02-05</td>\n",
       "      <td>Ativo</td>\n",
       "      <td>Time2</td>\n",
       "      <td>Chat</td>\n",
       "      <td>CLT</td>\n",
       "    </tr>\n",
       "    <tr>\n",
       "      <th>...</th>\n",
       "      <td>...</td>\n",
       "      <td>...</td>\n",
       "      <td>...</td>\n",
       "      <td>...</td>\n",
       "      <td>...</td>\n",
       "      <td>...</td>\n",
       "      <td>...</td>\n",
       "      <td>...</td>\n",
       "    </tr>\n",
       "    <tr>\n",
       "      <th>17151</th>\n",
       "      <td>a1R3j000003gEClEAM</td>\n",
       "      <td>Towery Smalley</td>\n",
       "      <td>towery.smalley@casedisponibilidade.br</td>\n",
       "      <td>2022-02-18</td>\n",
       "      <td>Ativo</td>\n",
       "      <td>Time2</td>\n",
       "      <td>Chat</td>\n",
       "      <td>CLT</td>\n",
       "    </tr>\n",
       "    <tr>\n",
       "      <th>17152</th>\n",
       "      <td>a1R3j000003ncMeEAI</td>\n",
       "      <td>Keyser Durst</td>\n",
       "      <td>keyser.durst@casedisponibilidade.br</td>\n",
       "      <td>2022-02-03</td>\n",
       "      <td>Ativo</td>\n",
       "      <td>Time1</td>\n",
       "      <td>Chat</td>\n",
       "      <td>CLT</td>\n",
       "    </tr>\n",
       "    <tr>\n",
       "      <th>17153</th>\n",
       "      <td>a1R3j0000043rzQEAQ</td>\n",
       "      <td>Starling Fike</td>\n",
       "      <td>starling.fike@casedisponibilidade.br</td>\n",
       "      <td>2022-02-09</td>\n",
       "      <td>Ativo</td>\n",
       "      <td>Time1</td>\n",
       "      <td>Chat</td>\n",
       "      <td>CLT</td>\n",
       "    </tr>\n",
       "    <tr>\n",
       "      <th>17154</th>\n",
       "      <td>a1R3j000003gHJnEAM</td>\n",
       "      <td>Melancon Feldman</td>\n",
       "      <td>melancon.feldman@casedisponibilidade.br</td>\n",
       "      <td>2022-02-18</td>\n",
       "      <td>Ativo</td>\n",
       "      <td>Time1</td>\n",
       "      <td>Chat</td>\n",
       "      <td>CLT</td>\n",
       "    </tr>\n",
       "    <tr>\n",
       "      <th>17155</th>\n",
       "      <td>a1R3j000003gHKYEA2</td>\n",
       "      <td>Rankin Parry</td>\n",
       "      <td>rankin.parry@casedisponibilidade.br</td>\n",
       "      <td>2022-02-12</td>\n",
       "      <td>Ativo</td>\n",
       "      <td>Time1</td>\n",
       "      <td>Chat</td>\n",
       "      <td>CLT</td>\n",
       "    </tr>\n",
       "  </tbody>\n",
       "</table>\n",
       "<p>16596 rows × 8 columns</p>\n",
       "</div>"
      ],
      "text/plain": [
       "                member_id              Agente  \\\n",
       "0      a1R1L000008eTNNUA2     Warwick Steiger   \n",
       "1      a1R3j0000043rzdEAA       Hathcock Bias   \n",
       "2      a1R3j000002b8bGEAQ  Callender Bradshaw   \n",
       "3      a1R3j000002bBodEAE       Duran Holland   \n",
       "4      a1R3j000002b8arEAA          Pape Stock   \n",
       "...                   ...                 ...   \n",
       "17151  a1R3j000003gEClEAM      Towery Smalley   \n",
       "17152  a1R3j000003ncMeEAI        Keyser Durst   \n",
       "17153  a1R3j0000043rzQEAQ       Starling Fike   \n",
       "17154  a1R3j000003gHJnEAM    Melancon Feldman   \n",
       "17155  a1R3j000003gHKYEA2        Rankin Parry   \n",
       "\n",
       "                                           Email        Data  Status   Time  \\\n",
       "0         warwick.steiger@casedisponibilidade.br  2022-02-02  Férias  Time2   \n",
       "1           hathcock.bias@casedisponibilidade.br  2022-02-01   Ativo  Time1   \n",
       "2      callender.bradshaw@casedisponibilidade.br  2022-02-24   Ativo  Time2   \n",
       "3           duran.holland@casedisponibilidade.br  2022-02-25   Ativo  Time3   \n",
       "4              pape.stock@casedisponibilidade.br  2022-02-05   Ativo  Time2   \n",
       "...                                          ...         ...     ...    ...   \n",
       "17151      towery.smalley@casedisponibilidade.br  2022-02-18   Ativo  Time2   \n",
       "17152        keyser.durst@casedisponibilidade.br  2022-02-03   Ativo  Time1   \n",
       "17153       starling.fike@casedisponibilidade.br  2022-02-09   Ativo  Time1   \n",
       "17154    melancon.feldman@casedisponibilidade.br  2022-02-18   Ativo  Time1   \n",
       "17155        rankin.parry@casedisponibilidade.br  2022-02-12   Ativo  Time1   \n",
       "\n",
       "      Canal Contrato  \n",
       "0      Chat      CLT  \n",
       "1      Chat      CLT  \n",
       "2      Chat      CLT  \n",
       "3      Chat      CLT  \n",
       "4      Chat      CLT  \n",
       "...     ...      ...  \n",
       "17151  Chat      CLT  \n",
       "17152  Chat      CLT  \n",
       "17153  Chat      CLT  \n",
       "17154  Chat      CLT  \n",
       "17155  Chat      CLT  \n",
       "\n",
       "[16596 rows x 8 columns]"
      ]
     },
     "execution_count": 4,
     "metadata": {},
     "output_type": "execute_result"
    }
   ],
   "source": [
    "%%time\n",
    "MembrosPKL"
   ]
  },
  {
   "cell_type": "code",
   "execution_count": 5,
   "id": "990e4008-8d74-4579-a08c-f244fe5fce33",
   "metadata": {},
   "outputs": [
    {
     "name": "stdout",
     "output_type": "stream",
     "text": [
      "Wall time: 0 ns\n"
     ]
    },
    {
     "data": {
      "text/html": [
       "<div>\n",
       "<style scoped>\n",
       "    .dataframe tbody tr th:only-of-type {\n",
       "        vertical-align: middle;\n",
       "    }\n",
       "\n",
       "    .dataframe tbody tr th {\n",
       "        vertical-align: top;\n",
       "    }\n",
       "\n",
       "    .dataframe thead th {\n",
       "        text-align: right;\n",
       "    }\n",
       "</style>\n",
       "<table border=\"1\" class=\"dataframe\">\n",
       "  <thead>\n",
       "    <tr style=\"text-align: right;\">\n",
       "      <th></th>\n",
       "      <th>member_id</th>\n",
       "      <th>agent_status</th>\n",
       "      <th>created_at</th>\n",
       "    </tr>\n",
       "  </thead>\n",
       "  <tbody>\n",
       "    <tr>\n",
       "      <th>0</th>\n",
       "      <td>a1R1L000008dhvDUAQ</td>\n",
       "      <td>Disponível</td>\n",
       "      <td>2022-02-07 14:04:44.823000+00:00</td>\n",
       "    </tr>\n",
       "    <tr>\n",
       "      <th>1</th>\n",
       "      <td>a1R3j000003gEBxEAM</td>\n",
       "      <td>Offline</td>\n",
       "      <td>2022-02-07 20:05:06.295000+00:00</td>\n",
       "    </tr>\n",
       "    <tr>\n",
       "      <th>2</th>\n",
       "      <td>a1R3j000003nb4EEAQ</td>\n",
       "      <td>Pausado</td>\n",
       "      <td>2022-02-12 18:37:39.667000+00:00</td>\n",
       "    </tr>\n",
       "    <tr>\n",
       "      <th>3</th>\n",
       "      <td>a1R1L000007POQyUAO</td>\n",
       "      <td>Offline</td>\n",
       "      <td>2022-02-25 13:28:04.128000+00:00</td>\n",
       "    </tr>\n",
       "    <tr>\n",
       "      <th>4</th>\n",
       "      <td>a1R3j0000043sVqEAI</td>\n",
       "      <td>Disponível</td>\n",
       "      <td>2022-02-10 18:02:06.933000+00:00</td>\n",
       "    </tr>\n",
       "    <tr>\n",
       "      <th>...</th>\n",
       "      <td>...</td>\n",
       "      <td>...</td>\n",
       "      <td>...</td>\n",
       "    </tr>\n",
       "    <tr>\n",
       "      <th>260207</th>\n",
       "      <td>a1R3j000003gDxlEAE</td>\n",
       "      <td>Offline</td>\n",
       "      <td>2022-02-25 10:44:20.245000+00:00</td>\n",
       "    </tr>\n",
       "    <tr>\n",
       "      <th>260208</th>\n",
       "      <td>a1R3j0000043rzmEAA</td>\n",
       "      <td>Ausente</td>\n",
       "      <td>2022-02-02 20:31:12.061000+00:00</td>\n",
       "    </tr>\n",
       "    <tr>\n",
       "      <th>260209</th>\n",
       "      <td>a1R3j0000043sWhEAI</td>\n",
       "      <td>Disponível</td>\n",
       "      <td>2022-02-17 01:00:45.036000+00:00</td>\n",
       "    </tr>\n",
       "    <tr>\n",
       "      <th>260210</th>\n",
       "      <td>a1R3j000003gGIBEA2</td>\n",
       "      <td>Offline</td>\n",
       "      <td>2022-02-16 14:21:57.705000+00:00</td>\n",
       "    </tr>\n",
       "    <tr>\n",
       "      <th>260211</th>\n",
       "      <td>a1R3j000003gHJgEAM</td>\n",
       "      <td>Disponível</td>\n",
       "      <td>2022-02-02 12:09:49.810000+00:00</td>\n",
       "    </tr>\n",
       "  </tbody>\n",
       "</table>\n",
       "<p>239563 rows × 3 columns</p>\n",
       "</div>"
      ],
      "text/plain": [
       "                 member_id agent_status                        created_at\n",
       "0       a1R1L000008dhvDUAQ   Disponível  2022-02-07 14:04:44.823000+00:00\n",
       "1       a1R3j000003gEBxEAM      Offline  2022-02-07 20:05:06.295000+00:00\n",
       "2       a1R3j000003nb4EEAQ      Pausado  2022-02-12 18:37:39.667000+00:00\n",
       "3       a1R1L000007POQyUAO      Offline  2022-02-25 13:28:04.128000+00:00\n",
       "4       a1R3j0000043sVqEAI   Disponível  2022-02-10 18:02:06.933000+00:00\n",
       "...                    ...          ...                               ...\n",
       "260207  a1R3j000003gDxlEAE      Offline  2022-02-25 10:44:20.245000+00:00\n",
       "260208  a1R3j0000043rzmEAA      Ausente  2022-02-02 20:31:12.061000+00:00\n",
       "260209  a1R3j0000043sWhEAI   Disponível  2022-02-17 01:00:45.036000+00:00\n",
       "260210  a1R3j000003gGIBEA2      Offline  2022-02-16 14:21:57.705000+00:00\n",
       "260211  a1R3j000003gHJgEAM   Disponível  2022-02-02 12:09:49.810000+00:00\n",
       "\n",
       "[239563 rows x 3 columns]"
      ]
     },
     "execution_count": 5,
     "metadata": {},
     "output_type": "execute_result"
    }
   ],
   "source": [
    "%%time\n",
    "RelatorioPKL"
   ]
  },
  {
   "cell_type": "markdown",
   "id": "6f942655-cb81-468a-8890-de5a8dcd12bb",
   "metadata": {
    "tags": []
   },
   "source": [
    "#### Manipulação e Limpeza das tabelas"
   ]
  },
  {
   "cell_type": "markdown",
   "id": "5da84e4b-6b60-42ba-bd59-69e1b837a9db",
   "metadata": {
    "tags": []
   },
   "source": [
    "##### Tabela EscalaPKL"
   ]
  },
  {
   "cell_type": "code",
   "execution_count": 6,
   "id": "56cabe05-d01f-4344-8dc2-422928af70eb",
   "metadata": {},
   "outputs": [
    {
     "name": "stdout",
     "output_type": "stream",
     "text": [
      "Wall time: 4 ms\n"
     ]
    }
   ],
   "source": [
    "%%time\n",
    "#Criar coluna Data\n",
    "EscalaPKL['Data']=EscalaPKL['shift_date']"
   ]
  },
  {
   "cell_type": "code",
   "execution_count": 7,
   "id": "c5743881-2cf5-44ef-bcc1-12859fe3c5fa",
   "metadata": {},
   "outputs": [
    {
     "name": "stdout",
     "output_type": "stream",
     "text": [
      "Wall time: 3 ms\n"
     ]
    }
   ],
   "source": [
    "%%time\n",
    "#Criar Coluna ID\n",
    "EscalaPKL['ID']=EscalaPKL['member_id']"
   ]
  },
  {
   "cell_type": "code",
   "execution_count": 8,
   "id": "2d813e93-f461-4269-a372-393a648be45d",
   "metadata": {},
   "outputs": [
    {
     "name": "stdout",
     "output_type": "stream",
     "text": [
      "Wall time: 10.7 s\n"
     ]
    }
   ],
   "source": [
    "%%time\n",
    "#Criar coluna Hora_Entrada\n",
    "HE=[]\n",
    "a=''\n",
    "b=''\n",
    "c=':'\n",
    "d=''\n",
    "e='0'\n",
    "for indice, linha in EscalaPKL.iterrows():\n",
    "    if linha['time_interval'][6]=='_':\n",
    "        a=linha['time_interval'][1:2]\n",
    "        b=linha['time_interval'][3:5]\n",
    "        d=e+c.join([a,b])\n",
    "        HE.append(d)\n",
    "    else:\n",
    "        a=linha['time_interval'][1:3]\n",
    "        b=linha['time_interval'][4:6]\n",
    "        d=c.join([a,b])\n",
    "        HE.append(d)\n",
    "EscalaPKL['Hora_Entrada']=HE"
   ]
  },
  {
   "cell_type": "code",
   "execution_count": 9,
   "id": "af5ec979-13bc-4f16-a1ba-8fca0edcd82c",
   "metadata": {},
   "outputs": [
    {
     "name": "stdout",
     "output_type": "stream",
     "text": [
      "Wall time: 10.7 s\n"
     ]
    }
   ],
   "source": [
    "%%time\n",
    "#Criar coluna Hora_Saida\n",
    "HS=[]\n",
    "a=''\n",
    "b=''\n",
    "c=':'\n",
    "d=''\n",
    "e='0'\n",
    "for indice, linha in EscalaPKL.iterrows():\n",
    "    if linha['time_interval'][-9]=='_':\n",
    "        a=linha['time_interval'][-8:-7]\n",
    "        b=linha['time_interval'][-6:-4]\n",
    "        d=e+c.join([a,b])\n",
    "        HS.append(d)\n",
    "    else:\n",
    "        a=linha['time_interval'][-9:-7]\n",
    "        b=linha['time_interval'][-6:-4]\n",
    "        d=c.join([a,b])\n",
    "        HS.append(d)\n",
    "EscalaPKL['Hora_Saida']=HS"
   ]
  },
  {
   "cell_type": "code",
   "execution_count": 10,
   "id": "4e32ed07-9d68-42ef-9ec0-363cbd3377a7",
   "metadata": {},
   "outputs": [
    {
     "name": "stdout",
     "output_type": "stream",
     "text": [
      "Wall time: 2 ms\n"
     ]
    }
   ],
   "source": [
    "%%time\n",
    "#Criação coluna Escala_Liquida\n",
    "EscalaPKL['Escala_Liquida']=EscalaPKL['resulting_status']"
   ]
  },
  {
   "cell_type": "code",
   "execution_count": 11,
   "id": "d543c825-ebde-4d71-89d8-44609f8665f4",
   "metadata": {},
   "outputs": [
    {
     "name": "stdout",
     "output_type": "stream",
     "text": [
      "Wall time: 73 ms\n"
     ]
    }
   ],
   "source": [
    "%%time\n",
    "#Descartar Colunas de Escala Bruta e alteração de Escala, Só é necessário Escala Líquida (resulting_status), data, intervalo de tempo e identificação.\n",
    "EscalaPKL.drop(['member_id','shift_date','time_interval','original_status','change_status','resulting_status'],axis=1,inplace=True)"
   ]
  },
  {
   "cell_type": "code",
   "execution_count": 12,
   "id": "1f565966-bbdb-49bb-830e-075ed1aca517",
   "metadata": {},
   "outputs": [
    {
     "name": "stdout",
     "output_type": "stream",
     "text": [
      "Wall time: 9.46 s\n"
     ]
    }
   ],
   "source": [
    "%%time\n",
    "#Nova tabela\n",
    "Escala=EscalaPKL\n",
    "TA=[]\n",
    "TP=[]\n",
    "TF=[]\n",
    "for indice,linha in Escala.iterrows():\n",
    "    if linha['Escala_Liquida']=='A':\n",
    "        TA.append(30)\n",
    "        TP.append(0)\n",
    "        TF.append(0)\n",
    "    elif linha['Escala_Liquida']=='FA':\n",
    "        TA.append(30)\n",
    "        TP.append(0)\n",
    "        TF.append(30)\n",
    "    elif linha['Escala_Liquida']=='P':\n",
    "        TA.append(0)\n",
    "        TP.append(30)\n",
    "        TF.append(0)\n",
    "    else:\n",
    "        TA.append(0)\n",
    "        TP.append(0)\n",
    "        TF.append(0)\n",
    "        \n",
    "Escala['Tempo_Escalado_Atendimento']=TA\n",
    "Escala['Tempo_Falta_Atendimento']=TF\n",
    "Escala['Tempo_Escalado_Projetos']=TP"
   ]
  },
  {
   "cell_type": "code",
   "execution_count": 13,
   "id": "bde1a308-4ede-4ad9-b9ae-6aaa97c82147",
   "metadata": {},
   "outputs": [
    {
     "name": "stdout",
     "output_type": "stream",
     "text": [
      "Wall time: 84 ms\n"
     ]
    }
   ],
   "source": [
    "%%time\n",
    "Esc=Escala.groupby(['Data','ID'],as_index=False).sum()"
   ]
  },
  {
   "cell_type": "markdown",
   "id": "b4029984-5fe7-43d7-bd39-1464d5d9ac2a",
   "metadata": {
    "tags": []
   },
   "source": [
    "##### Tabela Membros"
   ]
  },
  {
   "cell_type": "code",
   "execution_count": 14,
   "id": "738a430c-cb03-4775-b6b5-593161a733d1",
   "metadata": {},
   "outputs": [
    {
     "name": "stdout",
     "output_type": "stream",
     "text": [
      "Wall time: 2 ms\n"
     ]
    }
   ],
   "source": [
    "%%time\n",
    "#Criação coluna ID, Nome_Agente,Status_Agente e Time (para deixar a tabela organizada)\n",
    "MembrosPKL['ID']=MembrosPKL['member_id']\n",
    "MembrosPKL['Nome_Agente']=MembrosPKL['Agente']\n",
    "MembrosPKL['Status_Agente']=MembrosPKL['Status']\n",
    "MembrosPKL['Time']=MembrosPKL['Time']"
   ]
  },
  {
   "cell_type": "code",
   "execution_count": 15,
   "id": "fda0feb5-57b3-47b7-a967-eb6a8944cf3c",
   "metadata": {
    "tags": []
   },
   "outputs": [
    {
     "name": "stdout",
     "output_type": "stream",
     "text": [
      "Wall time: 7 ms\n"
     ]
    }
   ],
   "source": [
    "%%time\n",
    "#Remoção colunas e-mail, canal e contrato\n",
    "MembrosPKL.drop(['member_id','Agente','Status','Time','Email','Canal','Contrato'],axis=1,inplace=True)"
   ]
  },
  {
   "cell_type": "code",
   "execution_count": 16,
   "id": "a350ab4f-e8b2-4b5c-9ace-4a30692840cb",
   "metadata": {},
   "outputs": [
    {
     "name": "stdout",
     "output_type": "stream",
     "text": [
      "Wall time: 5 ms\n"
     ]
    }
   ],
   "source": [
    "%%time\n",
    "#Remoção de status diferente de Ativo\n",
    "MembrosDescarte=MembrosPKL.loc[MembrosPKL['Status_Agente']!='Ativo']\n",
    "\n",
    "MembrosFinal=MembrosPKL.drop(MembrosDescarte.index)"
   ]
  },
  {
   "cell_type": "code",
   "execution_count": 17,
   "id": "616f79bb-b7ef-43a6-8717-1b2c7705f1bf",
   "metadata": {},
   "outputs": [
    {
     "name": "stdout",
     "output_type": "stream",
     "text": [
      "Wall time: 2 ms\n"
     ]
    },
    {
     "data": {
      "text/html": [
       "<div>\n",
       "<style scoped>\n",
       "    .dataframe tbody tr th:only-of-type {\n",
       "        vertical-align: middle;\n",
       "    }\n",
       "\n",
       "    .dataframe tbody tr th {\n",
       "        vertical-align: top;\n",
       "    }\n",
       "\n",
       "    .dataframe thead th {\n",
       "        text-align: right;\n",
       "    }\n",
       "</style>\n",
       "<table border=\"1\" class=\"dataframe\">\n",
       "  <thead>\n",
       "    <tr style=\"text-align: right;\">\n",
       "      <th></th>\n",
       "      <th>Data</th>\n",
       "      <th>ID</th>\n",
       "      <th>Nome_Agente</th>\n",
       "      <th>Status_Agente</th>\n",
       "    </tr>\n",
       "  </thead>\n",
       "  <tbody>\n",
       "  </tbody>\n",
       "</table>\n",
       "</div>"
      ],
      "text/plain": [
       "Empty DataFrame\n",
       "Columns: [Data, ID, Nome_Agente, Status_Agente]\n",
       "Index: []"
      ]
     },
     "execution_count": 17,
     "metadata": {},
     "output_type": "execute_result"
    }
   ],
   "source": [
    "%%time\n",
    "#Filtrar status como diferente de ativo, para garantir que removemos todos os não ativos\n",
    "MembrosFinal.loc[MembrosFinal['Status_Agente']!='Ativo']"
   ]
  },
  {
   "cell_type": "markdown",
   "id": "829ac8bf-2f25-465f-bac0-7c046c96d381",
   "metadata": {
    "tags": []
   },
   "source": [
    "##### Tabela Relatórios"
   ]
  },
  {
   "cell_type": "code",
   "execution_count": 18,
   "id": "79b59460-cade-46cb-9560-214a2da78bc4",
   "metadata": {},
   "outputs": [
    {
     "name": "stdout",
     "output_type": "stream",
     "text": [
      "Wall time: 3 ms\n"
     ]
    }
   ],
   "source": [
    "%%time\n",
    "#Criar coluna ID (padrão)\n",
    "RelatorioPKL['ID']=RelatorioPKL['member_id']"
   ]
  },
  {
   "cell_type": "code",
   "execution_count": 19,
   "id": "3346850e-3ed7-402d-8fc6-30da2cc61fe8",
   "metadata": {},
   "outputs": [
    {
     "name": "stdout",
     "output_type": "stream",
     "text": [
      "Wall time: 31.1 s\n"
     ]
    },
    {
     "data": {
      "text/plain": [
       "pandas.core.series.Series"
      ]
     },
     "execution_count": 19,
     "metadata": {},
     "output_type": "execute_result"
    }
   ],
   "source": [
    "%%time\n",
    "#Criar Coluna Data_Hora\n",
    "DataHora=[]\n",
    "Seg=[]\n",
    "a=''\n",
    "b=''\n",
    "c=''\n",
    "for indice,linha in RelatorioPKL.iterrows():\n",
    "    a=dtpar.parse(linha['created_at'][0:16])          #Transformando a data em parse e colocando em formato datetime\n",
    "    b=a.strftime('%Y-%m-%d %H:%M')                    #Formatação datetime para formato padrão escolhido\n",
    "    c=linha['created_at'][17:22] \n",
    "    DataHora.append(b)                                #Criando coluna com as datas\n",
    "    Seg.append(c)                                     #Criando Coluna Segundos, caso haja necessidade de diferenciar no futuro\n",
    "RelatorioPKL['Data_Hora']=DataHora                    #Adicionar coluna de Datas na tabela RelatorioPKL\n",
    "RelatorioPKL['Segundos']=Seg\n",
    "type(RelatorioPKL['Segundos'])"
   ]
  },
  {
   "cell_type": "code",
   "execution_count": 20,
   "id": "fe5972dd-7c54-41e8-94a9-1473696f81a6",
   "metadata": {},
   "outputs": [
    {
     "name": "stdout",
     "output_type": "stream",
     "text": [
      "Wall time: 308 ms\n"
     ]
    }
   ],
   "source": [
    "%%time\n",
    "#Reorganizar RelatorioPKL\n",
    "RelatorioPKL=RelatorioPKL[['ID','Data_Hora','Segundos','agent_status']]\n",
    "RelatorioPKL=RelatorioPKL.groupby(['ID','Data_Hora','Segundos','agent_status'],as_index=False).sum()"
   ]
  },
  {
   "cell_type": "code",
   "execution_count": 21,
   "id": "9ca757f2-afe2-4a7b-99c0-8000a540e8d9",
   "metadata": {},
   "outputs": [
    {
     "name": "stdout",
     "output_type": "stream",
     "text": [
      "Wall time: 9.6 s\n"
     ]
    }
   ],
   "source": [
    "%%time\n",
    "#Criar Status_Operador apenas com as opções Disponível e Indisponível(Ausente, Pausado, Offline, Indisponível)\n",
    "Disp=[]\n",
    "\n",
    "for indice,linha in RelatorioPKL.iterrows():\n",
    "    if linha['agent_status']=='Disponível':\n",
    "        Disp.append('Disponível')\n",
    "    elif linha['agent_status']=='':\n",
    "        Disp.append('')\n",
    "    else:\n",
    "        Disp.append('Indisponível')\n",
    "\n",
    "RelatorioPKL['Status_Operador']=Disp"
   ]
  },
  {
   "cell_type": "code",
   "execution_count": 22,
   "id": "4fd436df-b964-48c9-9121-7fc96922eb0f",
   "metadata": {},
   "outputs": [
    {
     "name": "stdout",
     "output_type": "stream",
     "text": [
      "Wall time: 36 ms\n"
     ]
    }
   ],
   "source": [
    "%%time\n",
    "#Drop agent_status\n",
    "RelatorioPKL.drop(['agent_status'],axis=1,inplace=True)"
   ]
  },
  {
   "cell_type": "code",
   "execution_count": 23,
   "id": "c8da4764-052a-4e19-97b3-899e44f55225",
   "metadata": {},
   "outputs": [
    {
     "name": "stdout",
     "output_type": "stream",
     "text": [
      "Wall time: 275 ms\n"
     ]
    }
   ],
   "source": [
    "%%time\n",
    "#Remover duplicados e agrupar RelatorioPKL\n",
    "RelatorioPKL=RelatorioPKL.drop_duplicates(subset=['ID','Data_Hora','Status_Operador'])\n",
    "RelatorioPKL=RelatorioPKL[['ID','Data_Hora','Segundos','Status_Operador']]\n",
    "RelatorioPKL=RelatorioPKL.groupby(['ID','Data_Hora','Segundos','Status_Operador'],as_index=False).sum()"
   ]
  },
  {
   "cell_type": "code",
   "execution_count": 24,
   "id": "988f05ca-3ec4-4ad7-b967-3a45891d993c",
   "metadata": {},
   "outputs": [
    {
     "name": "stdout",
     "output_type": "stream",
     "text": [
      "Wall time: 7.87 s\n"
     ]
    }
   ],
   "source": [
    "%%time\n",
    "#Criar Marcador para limpeza de entradas ou saídas repetidas\n",
    "\n",
    "Marc=[]\n",
    "ID=''\n",
    "SA=''\n",
    "Contador=0\n",
    "\n",
    "for indice, linha in RelatorioPKL.iterrows():\n",
    "    if linha['Status_Operador']==SA and linha['ID']==ID:\n",
    "        Contador=Contador+1\n",
    "        Marc.append(Contador)\n",
    "        SA=linha['Status_Operador']\n",
    "        ID=linha['ID']\n",
    "    else:\n",
    "        Contador=0\n",
    "        SA=linha['Status_Operador']\n",
    "        Marc.append(Contador)\n",
    "        ID=linha['ID']\n",
    "\n",
    "RelatorioPKL['Marcador_Repetição_Status']=Marc"
   ]
  },
  {
   "cell_type": "code",
   "execution_count": 25,
   "id": "91db3eac-a6d9-4179-9f9a-a85f05a38b7c",
   "metadata": {},
   "outputs": [
    {
     "name": "stdout",
     "output_type": "stream",
     "text": [
      "Wall time: 45 ms\n"
     ]
    }
   ],
   "source": [
    "%%time\n",
    "#Remover linhas com Marcador>0, recorrência de disponibilidade/indisponibilidade já reportada\n",
    "\n",
    "DescarteRelatorioPKL=RelatorioPKL.loc[RelatorioPKL['Marcador_Repetição_Status']!=0]\n",
    "Relatorio1=RelatorioPKL.drop(DescarteRelatorioPKL.index)\n",
    "Relatorio1=Relatorio1.reset_index()"
   ]
  },
  {
   "cell_type": "code",
   "execution_count": 26,
   "id": "52ce6721-ae13-4f2a-b15c-44784f2f204c",
   "metadata": {},
   "outputs": [
    {
     "name": "stdout",
     "output_type": "stream",
     "text": [
      "Wall time: 11.1 s\n"
     ]
    }
   ],
   "source": [
    "%%time\n",
    "#Repetir marcador para verificar se ainda há incidência de status repetidos\n",
    "\n",
    "Marc=[]\n",
    "ID=''\n",
    "SA=''\n",
    "Contador=0\n",
    "\n",
    "for indice, linha in Relatorio1.iterrows():\n",
    "    if linha['Status_Operador']=='Indisponível' and linha['ID']!=ID:\n",
    "        Contador=1\n",
    "        Marc.append(Contador)\n",
    "        SA=linha['Status_Operador']\n",
    "        ID=linha['ID']\n",
    "    else:\n",
    "        Contador=0\n",
    "        SA=linha['Status_Operador']\n",
    "        Marc.append(Contador)\n",
    "        ID=linha['ID']\n",
    "\n",
    "Relatorio1['Marcador_Status_Inicial_Ind']=Marc\n",
    "\n",
    "#Fazendo o loop inverso, para verificar quais os IDs que finalizaram o mês com o Status Disponível\n",
    "Marc=[]\n",
    "ID=''\n",
    "SA=''\n",
    "Contador=0\n",
    "RelatorioInvertido=Relatorio1.iloc[::-1]\n",
    "\n",
    "for indice, linha in RelatorioInvertido.iterrows():\n",
    "    if linha['Status_Operador']=='Disponível' and linha['ID']!=ID:\n",
    "        Contador=1\n",
    "        Marc.append(Contador)\n",
    "        SA=linha['Status_Operador']\n",
    "        ID=linha['ID']\n",
    "\n",
    "    else:\n",
    "        Contador=0\n",
    "        SA=linha['Status_Operador']\n",
    "        Marc.append(Contador)\n",
    "        ID=linha['ID']\n",
    "\n",
    "Relatorio1['Marcador_Status_Final_Disp']=Marc[::-1]"
   ]
  },
  {
   "cell_type": "code",
   "execution_count": 27,
   "id": "63bf63af-8130-4089-8310-f921b30e69eb",
   "metadata": {},
   "outputs": [
    {
     "name": "stdout",
     "output_type": "stream",
     "text": [
      "Wall time: 11 s\n"
     ]
    }
   ],
   "source": [
    "%%time\n",
    "#Novo marcador para verificar quais IDs iniciaram o mês com status indisponível\n",
    "\n",
    "Marc=[]\n",
    "ID=''\n",
    "SA=''\n",
    "Contador=0\n",
    "\n",
    "for indice, linha in Relatorio1.iterrows():\n",
    "    if linha['Status_Operador']=='Indisponível' and linha['ID']!=ID:\n",
    "        Contador=1\n",
    "        Marc.append(Contador)\n",
    "        SA=linha['Status_Operador']\n",
    "        ID=linha['ID']\n",
    "       \n",
    "    elif Contador==1:\n",
    "        SA=linha['Status_Operador']\n",
    "        Marc.append(Contador)\n",
    "        ID=linha['ID']\n",
    "        Contador=0\n",
    "    else:\n",
    "        Contador=0\n",
    "        SA=linha['Status_Operador']\n",
    "        Marc.append(Contador)\n",
    "        ID=linha['ID']\n",
    "\n",
    "Relatorio1['Marcador_3']=Marc\n",
    "\n",
    "#Fazendo o loop inverso, para verificar quais os IDs que finalizaram o mês com o Status Disponível\n",
    "Marc=[]\n",
    "ID=''\n",
    "SA=''\n",
    "Contador=0\n",
    "\n",
    "RelatorioInvertido=Relatorio1.iloc[::-1]\n",
    "\n",
    "for indice, linha in RelatorioInvertido.iterrows():\n",
    "    if linha['Status_Operador']=='Disponível' and linha['ID']!=ID:\n",
    "        Contador=1\n",
    "        Marc.append(Contador)\n",
    "        SA=linha['Status_Operador']\n",
    "        ID=linha['ID']\n",
    "       \n",
    "    elif Contador==1:\n",
    "        SA=linha['Status_Operador']\n",
    "        Marc.append(Contador)\n",
    "        ID=linha['ID']\n",
    "        Contador=0\n",
    "    else:\n",
    "        Contador=0\n",
    "        SA=linha['Status_Operador']\n",
    "        Marc.append(Contador)\n",
    "        ID=linha['ID']\n",
    "\n",
    "Relatorio1['Marcador_4']=Marc[::-1]"
   ]
  },
  {
   "cell_type": "code",
   "execution_count": 28,
   "id": "fcb93cb7-6681-439a-a46a-0f50699caf85",
   "metadata": {},
   "outputs": [
    {
     "name": "stdout",
     "output_type": "stream",
     "text": [
      "Wall time: 188 ms\n"
     ]
    }
   ],
   "source": [
    "%%time\n",
    "#Remover linhas onde Marcador_Status_Inicial_Ind=1 ou Marcador_Status_Final_Disp=1, ciclo incompleto em fevereiro.\n",
    "#Descarte de dados incertos (precisaria dos dados do mês anterior e posterior e confirmar com os encantadores o que ocorreu)\n",
    "\n",
    "DescartaIndInicial=Relatorio1.loc[Relatorio1['Marcador_Status_Inicial_Ind']==1]                 #Criação da Tabela de Descarte 1\n",
    "\n",
    "RelatorioQuaseEntraSai=Relatorio1.drop(DescartaIndInicial.index)                                   #Descarte de linhas 1\n",
    "\n",
    "DescartaDispFinal=RelatorioQuaseEntraSai.loc[RelatorioQuaseEntraSai['Marcador_Status_Final_Disp']==1]      #Criação da Tabela de Descarte 2\n",
    "\n",
    "RelatorioEntraSai=RelatorioQuaseEntraSai.drop(DescartaDispFinal.index)                                #Descarte de linhas 2\n",
    "\n",
    "RelatorioEntraSai=RelatorioEntraSai[['ID','Data_Hora','Segundos','Status_Operador']]\n",
    "RelatorioEntraSai=RelatorioEntraSai.groupby(['ID','Data_Hora','Segundos','Status_Operador'],as_index=False).sum()\n",
    "RelatorioEntraSai=RelatorioEntraSai.reset_index()\n",
    "RelatorioEntraSai=RelatorioEntraSai[['ID','Data_Hora','Segundos','Status_Operador']]"
   ]
  },
  {
   "cell_type": "code",
   "execution_count": 29,
   "id": "ea91056a-4dee-4ddb-b6da-1848e94d5340",
   "metadata": {},
   "outputs": [
    {
     "name": "stdout",
     "output_type": "stream",
     "text": [
      "Wall time: 16.5 s\n"
     ]
    }
   ],
   "source": [
    "%%time\n",
    "#Separar coluna Data_Hora nas colunas Data e Hora\n",
    "\n",
    "Data=[]\n",
    "Hora=[]\n",
    "a=''\n",
    "b=''\n",
    "c=''\n",
    "\n",
    "for indice,linha in RelatorioEntraSai.iterrows():\n",
    "    a=dtpar.parse(linha['Data_Hora'])\n",
    "    b=a.strftime('%Y-%m-%d')\n",
    "    c=a.strftime('%H:%M')\n",
    "    Data.append(b)\n",
    "    Hora.append(c)\n",
    "\n",
    "RelatorioEntraSai['Data']=Data\n",
    "RelatorioEntraSai['Hora']=Hora\n",
    "\n",
    "RelatorioEntraSai=RelatorioEntraSai.groupby(['ID','Data_Hora','Data','Hora','Segundos','Status_Operador'],as_index=False).sum()\n",
    "RelatorioEntraSai=RelatorioEntraSai.reset_index()\n",
    "RelatorioEntraSai=RelatorioEntraSai[['ID','Data_Hora','Data','Hora','Segundos','Status_Operador']]\n",
    "RIL=RelatorioEntraSai"
   ]
  },
  {
   "cell_type": "code",
   "execution_count": 30,
   "id": "7b7dcf6e-2143-445d-b77a-f0f92510385b",
   "metadata": {},
   "outputs": [
    {
     "name": "stdout",
     "output_type": "stream",
     "text": [
      "Wall time: 0 ns\n"
     ]
    }
   ],
   "source": [
    "%%time\n",
    "#Backup\n",
    "RelatorioParaLoop=RIL"
   ]
  },
  {
   "cell_type": "code",
   "execution_count": 31,
   "id": "09e27d9e-6210-4a94-8678-c2951bf1e0d3",
   "metadata": {},
   "outputs": [
    {
     "name": "stdout",
     "output_type": "stream",
     "text": [
      "Wall time: 12.4 s\n"
     ]
    }
   ],
   "source": [
    "%%time\n",
    "#Marcador para verificar quais IDs viraram o dia logados, adicionar linha final para dia anterior e linha inicial para dia posterior.\n",
    "\n",
    "Marc=[]\n",
    "AddLinhasEntrada=[]\n",
    "AddLinhasSaída=[]\n",
    "ID=''\n",
    "SA=''\n",
    "DA=''\n",
    "DH0=''\n",
    "H0=' 00:00'\n",
    "s=0\n",
    "Contador=0\n",
    "\n",
    "#Se o status é Indisponível, o usuário é o mesmo da linha anterior e a data mudou da linha de cima, logo 'virei' a noite trabalhando.\n",
    "for indice, linha in RelatorioParaLoop.iterrows():\n",
    "    \n",
    "    if linha['Status_Operador']=='Indisponível' and linha['ID']==ID and linha['Data']!=DA:\n",
    "        Contador=1\n",
    "        Marc.append(Contador)\n",
    "        DH0=dtpar.parse(linha['Data']+H0)\n",
    "        AddLinhasEntrada.append([linha['ID'],DH0.strftime('%Y-%m-%d %H:%M'),linha['Data'],DH0.strftime('%H:%M'),s,'Disponível',0,0])\n",
    "        AddLinhasSaída.append([linha['ID'],DH0.strftime('%Y-%m-%d %H:%M'),linha['Data'],DH0.strftime('%H:%M'),s,'Indisponível',0,0])\n",
    "        SA=linha['Status_Operador']\n",
    "        ID=linha['ID']\n",
    "        DA=linha['Data']\n",
    "    \n",
    "    else:\n",
    "        Contador=0\n",
    "        Marc.append(Contador)\n",
    "        SA=linha['Status_Operador']\n",
    "        ID=linha['ID']\n",
    "        DA=linha['Data']\n",
    "\n",
    "RelatorioParaLoop['Marcador_5']=Marc\n",
    "\n",
    "#Fazendo o loop inverso, para verificar quais os IDs que viraram\n",
    "Marc=[]\n",
    "M5=''\n",
    "ID=''\n",
    "DA=''\n",
    "Contador=0\n",
    "\n",
    "RelatorioInvertido=RelatorioParaLoop.iloc[::-1]\n",
    "\n",
    "for indice, linha in RelatorioInvertido.iterrows():\n",
    "    \n",
    "    if M5==1 and linha['ID']==ID:\n",
    "        Contador=1\n",
    "        Marc.append(Contador)\n",
    "        M5=linha['Marcador_5']\n",
    "        ID=linha['ID']\n",
    "        DA=linha['Data']\n",
    "            \n",
    "    else:\n",
    "        Contador=0\n",
    "        Marc.append(Contador)\n",
    "        M5=linha['Marcador_5']\n",
    "        ID=linha['ID']\n",
    "        DA=linha['Data']\n",
    "        \n",
    "RelatorioParaLoop['Marcador_6']=Marc[::-1]"
   ]
  },
  {
   "cell_type": "code",
   "execution_count": 32,
   "id": "6461328f-7705-419b-a298-b07f88ee1226",
   "metadata": {},
   "outputs": [
    {
     "name": "stdout",
     "output_type": "stream",
     "text": [
      "Wall time: 16 ms\n"
     ]
    }
   ],
   "source": [
    "%%time\n",
    "#Criando Tabelas com os marcadores e integrando elas à tabela RelatorioEntraSai\n",
    "ALE=pd.DataFrame(AddLinhasEntrada,columns='ID Data_Hora Data Hora Segundos Status_Operador Marcador_5 Marcador_6'.split())\n",
    "ALS=pd.DataFrame(AddLinhasSaída,columns='ID Data_Hora Data Hora Segundos Status_Operador Marcador_5 Marcador_6'.split())\n",
    "RelatorioEntraSai=pd.concat([RelatorioParaLoop,ALE,ALS],ignore_index=True)"
   ]
  },
  {
   "cell_type": "code",
   "execution_count": 33,
   "id": "82280066-5fe3-4497-acfb-f6ce2e443824",
   "metadata": {},
   "outputs": [
    {
     "name": "stdout",
     "output_type": "stream",
     "text": [
      "Wall time: 243 ms\n"
     ]
    }
   ],
   "source": [
    "%%time\n",
    "RelatorioEntraSai=RelatorioEntraSai.groupby(['ID','Data_Hora','Data','Hora','Segundos','Status_Operador'],as_index=False).sum()\n",
    "RelatorioEntraSai=RelatorioEntraSai.reset_index()\n",
    "RelatorioEntraSai=RelatorioEntraSai[['ID','Data_Hora','Data','Hora','Segundos','Status_Operador']]"
   ]
  },
  {
   "cell_type": "code",
   "execution_count": 34,
   "id": "c4720935-4fd3-4395-be17-45262925b795",
   "metadata": {},
   "outputs": [
    {
     "name": "stdout",
     "output_type": "stream",
     "text": [
      "Wall time: 43 ms\n"
     ]
    }
   ],
   "source": [
    "%%time\n",
    "#Separar RelatorioEntraSai em 2 tabelas, uma terá as entradas (Status_Operador=Disponível), a outra as saídas (Status_Operador=Indisponível)\n",
    "\n",
    "SaidaRelatorio=RelatorioEntraSai.loc[RelatorioEntraSai['Status_Operador']=='Indisponível']             #Criação da Tabela de saídas\n",
    "EntradaRelatorio=RelatorioEntraSai.loc[RelatorioEntraSai['Status_Operador']=='Disponível']             #Criação da Tabela de entradas\n",
    "\n",
    "SaidaRelatorio=SaidaRelatorio.reset_index()                                                            #Resetar index, sequência ficar na ordem correta\n",
    "EntradaRelatorio=EntradaRelatorio.reset_index()\n",
    "\n",
    "SaidaRelatorio['Hora_Saída']=SaidaRelatorio['Hora']                                                    #Criando colunas exclusivas de Entrada e Saída\n",
    "EntradaRelatorio['Hora_Entrada']=EntradaRelatorio['Hora']\n",
    "SaidaRelatorio['Data_Hora_Saída']=SaidaRelatorio['Data_Hora']\n",
    "EntradaRelatorio['Data_Hora_Entrada']=EntradaRelatorio['Data_Hora']\n",
    "SaidaRelatorio['Data_Saída']=SaidaRelatorio['Data']\n",
    "EntradaRelatorio['Data_Entrada']=EntradaRelatorio['Data']"
   ]
  },
  {
   "cell_type": "code",
   "execution_count": 35,
   "id": "70c4819a-5fe4-4689-a2b6-7f4a256088be",
   "metadata": {},
   "outputs": [
    {
     "name": "stdout",
     "output_type": "stream",
     "text": [
      "Wall time: 23 ms\n"
     ]
    }
   ],
   "source": [
    "%%time\n",
    "SaidaRelatorio=SaidaRelatorio[['ID','Data_Hora_Saída','Data_Saída','Hora_Saída']]"
   ]
  },
  {
   "cell_type": "code",
   "execution_count": 36,
   "id": "d85cb1e9-fe44-4525-b454-e9943593ab71",
   "metadata": {},
   "outputs": [
    {
     "name": "stdout",
     "output_type": "stream",
     "text": [
      "Wall time: 18 ms\n"
     ]
    }
   ],
   "source": [
    "%%time\n",
    "EntradaRelatorio=EntradaRelatorio[['ID','Data_Hora_Entrada','Data_Entrada','Hora_Entrada']]"
   ]
  },
  {
   "cell_type": "code",
   "execution_count": 37,
   "id": "0ac813b9-419e-4173-bc73-3969a247037e",
   "metadata": {},
   "outputs": [
    {
     "name": "stdout",
     "output_type": "stream",
     "text": [
      "Wall time: 8 ms\n"
     ]
    }
   ],
   "source": [
    "%%time\n",
    "#Unir Tabelas de entrada e saída, para manipulação de tempo logado (Criação Tabela de Tempo Logado, TabTL)\n",
    "\n",
    "TabTL=pd.concat([EntradaRelatorio,SaidaRelatorio[['Data_Hora_Saída','Data_Saída','Hora_Saída']]],axis=1)"
   ]
  },
  {
   "cell_type": "code",
   "execution_count": 38,
   "id": "152d6a9a-19dd-46db-a852-105c1d51abea",
   "metadata": {},
   "outputs": [
    {
     "name": "stdout",
     "output_type": "stream",
     "text": [
      "Wall time: 17 ms\n"
     ]
    }
   ],
   "source": [
    "%%time\n",
    "#Organizar tabela\n",
    "\n",
    "TabTL=TabTL[['ID','Data_Hora_Entrada','Data_Hora_Saída','Data_Entrada','Data_Saída','Hora_Entrada','Hora_Saída']]"
   ]
  },
  {
   "cell_type": "code",
   "execution_count": 39,
   "id": "4b16664b-b360-45f6-9f20-c35fda272e44",
   "metadata": {},
   "outputs": [
    {
     "name": "stdout",
     "output_type": "stream",
     "text": [
      "Wall time: 12.3 s\n"
     ]
    }
   ],
   "source": [
    "%%time\n",
    "#Cálculo do tempo logado\n",
    "\n",
    "TL=[]\n",
    "t=''\n",
    "hs=''\n",
    "he=''\n",
    "for indice, linha in TabTL.iterrows():\n",
    "    he=dtpar.parse(linha['Data_Hora_Entrada'])\n",
    "    hs=dtpar.parse(linha['Data_Hora_Saída'])\n",
    "    t=int((dt.timedelta.total_seconds(hs-he))/60)\n",
    "    TL.append(t)\n",
    "\n",
    "TabTL['Min_Log']=TL\n",
    "TabTL['Data']=TabTL['Data_Entrada']"
   ]
  },
  {
   "cell_type": "code",
   "execution_count": 40,
   "id": "e23b0cdc-d923-49c8-9fa9-819970c09c69",
   "metadata": {},
   "outputs": [
    {
     "name": "stdout",
     "output_type": "stream",
     "text": [
      "Wall time: 31 ms\n"
     ]
    }
   ],
   "source": [
    "%%time\n",
    "#Criação da Tabela Tempo Logoado (TTL)\n",
    "#Tabela TabTL será usada para cálculo de minutos logados na criação da estatística indicador de disponibilidade\n",
    "TTL=TabTL[['ID','Data','Min_Log']]\n",
    "TTL=TTL.groupby(['Data','ID'],as_index=False).sum()"
   ]
  },
  {
   "cell_type": "markdown",
   "id": "ac274ef2-ea04-4679-8628-2b9096111f1a",
   "metadata": {
    "tags": []
   },
   "source": [
    "##### Marcador Disponibilidade"
   ]
  },
  {
   "cell_type": "markdown",
   "id": "98ae5591-fa35-4cbc-892e-6df1000f25f1",
   "metadata": {},
   "source": [
    "###### Tabela de Escala para Disponibilidade e Atraso"
   ]
  },
  {
   "cell_type": "code",
   "execution_count": 41,
   "id": "98bb6ffc-625a-46c3-8436-3a140e90e892",
   "metadata": {
    "tags": []
   },
   "outputs": [
    {
     "name": "stdout",
     "output_type": "stream",
     "text": [
      "Wall time: 268 ms\n"
     ]
    }
   ],
   "source": [
    "%%time\n",
    "#Preciso comparar horas de entrada prevista com entrada real (Serão Usadas as Tabelas Escala e TabTL)\n",
    "#Agrupar por Linhas com a Escala_Liquida==A ou Escala_Liquida==FA e manter apenas colunas necessárias\n",
    "\n",
    "EscalaMantem1=Escala.loc[Escala['Escala_Liquida']=='A']\n",
    "EscalaMantem2=Escala.loc[Escala['Escala_Liquida']=='FA']\n",
    "                         \n",
    "EscDisp=pd.concat([EscalaMantem1,EscalaMantem2])\n",
    "\n",
    "EscDisp=EscDisp.groupby(['Data','ID','Hora_Entrada','Hora_Saida','Escala_Liquida'],as_index=False).sum()\n",
    "EscDisp=EscDisp[['Data','ID','Hora_Entrada','Hora_Saida']]"
   ]
  },
  {
   "cell_type": "code",
   "execution_count": 42,
   "id": "1c76d130-3cda-4316-a128-0f7d27d262fe",
   "metadata": {},
   "outputs": [
    {
     "name": "stdout",
     "output_type": "stream",
     "text": [
      "Wall time: 30.8 s\n"
     ]
    }
   ],
   "source": [
    "%%time\n",
    "#Criando coluna DH_Ent_Prev e DH_Sai_Prev\n",
    "#A ideia aqui é criar uma coluna com data e hora que possa ser usada nos cálculos futuros\n",
    "\n",
    "DHEP=[]\n",
    "DHSP=[]\n",
    "HE=''\n",
    "HS=''\n",
    "Data=''\n",
    "DHE=''\n",
    "DHS=''\n",
    "DE=''\n",
    "DS=''\n",
    "Data1=''\n",
    "for indice,linha in EscDisp.iterrows():\n",
    "    HE=linha['Hora_Entrada']\n",
    "    HS=linha['Hora_Saida']\n",
    "    if HS=='00:00':\n",
    "        Data=linha['Data']\n",
    "        Data1= dt.datetime.strftime(dt.timedelta(days=1)+dtpar.parse(Data),'%Y-%m-%d')\n",
    "        DE=Data+' '+HE\n",
    "        DS=Data1+' '+HS\n",
    "        DHE=dtpar.parse(DE)\n",
    "        DHS=dtpar.parse(DS)\n",
    "        DHEP.append(DHE)\n",
    "        DHSP.append(DHS)\n",
    "                \n",
    "    else:\n",
    "        Data=linha['Data']\n",
    "        DE=Data+' '+HE\n",
    "        DS=Data+' '+HS\n",
    "        DHE=dtpar.parse(DE)\n",
    "        DHS=dtpar.parse(DS)\n",
    "        DHEP.append(DHE)\n",
    "        DHSP.append(DHS)\n",
    "    \n",
    "EscDisp['DH_Ent_Prev']=DHEP\n",
    "EscDisp['DH_Sai_Prev']=DHSP"
   ]
  },
  {
   "cell_type": "code",
   "execution_count": 43,
   "id": "57a9ab3e-611b-44dc-92c8-a267bea48b84",
   "metadata": {},
   "outputs": [
    {
     "name": "stdout",
     "output_type": "stream",
     "text": [
      "Wall time: 106 ms\n"
     ]
    }
   ],
   "source": [
    "%%time\n",
    "EscDisp=EscDisp[['ID','Data','DH_Ent_Prev','DH_Sai_Prev']]\n",
    "EscDisp=EscDisp.groupby(['ID','Data','DH_Ent_Prev','DH_Sai_Prev'],as_index=False).sum()"
   ]
  },
  {
   "cell_type": "code",
   "execution_count": 44,
   "id": "7e5f335d-c5b9-4dc9-9c02-68aa53fa4310",
   "metadata": {},
   "outputs": [
    {
     "name": "stdout",
     "output_type": "stream",
     "text": [
      "Wall time: 20.9 s\n"
     ]
    }
   ],
   "source": [
    "%%time\n",
    "#Criando Colunas de marcação para ter a escala liquida da hora de entrada a hora de saída diária com os intervalos.\n",
    "\n",
    "MarcSeq=[]\n",
    "EL=[]\n",
    "NHE=[]\n",
    "he=''\n",
    "hs=''\n",
    "t=0\n",
    "contador=0\n",
    "\n",
    "for indice, linha in EscDisp.iterrows():\n",
    "    if hs==linha['DH_Ent_Prev']:\n",
    "        hs=linha['DH_Sai_Prev']\n",
    "        t=(dt.timedelta.total_seconds(hs-he))/60\n",
    "        contador=contador+1\n",
    "        MarcSeq.append(contador)\n",
    "        NHE.append(he)\n",
    "        EL.append(int(t))\n",
    "    else:\n",
    "        he=linha['DH_Ent_Prev']\n",
    "        hs=linha['DH_Sai_Prev']\n",
    "        t=(dt.timedelta.total_seconds(hs-he))/60\n",
    "        contador=0\n",
    "        MarcSeq.append(contador)\n",
    "        NHE.append(he)\n",
    "        EL.append(int(t))\n",
    "\n",
    "EscDisp['Marc']=MarcSeq\n",
    "EscDisp['DH_Ent_Prev_Real']=NHE\n",
    "EscDisp['Periodo_Prev']=EL\n",
    "#Marc é um marcador progressivo, sempre que o período se alonga ele soma 1\n",
    "#NHE é a Data hora que será marcada como entrada para englobar o período todo\n",
    "#t é o tempo em minutos previsto para estar em atendimento"
   ]
  },
  {
   "cell_type": "code",
   "execution_count": 45,
   "id": "d36de118-17c2-4072-ac45-8a10a5bedc59",
   "metadata": {},
   "outputs": [
    {
     "name": "stdout",
     "output_type": "stream",
     "text": [
      "Wall time: 8.17 s\n"
     ]
    }
   ],
   "source": [
    "%%time\n",
    "EscDispInvertido=EscDisp.iloc[::-1]     #invertendo a sequência para marcar linhas desnecessárias.\n",
    "\n",
    "Marc=0\n",
    "Ident=[]\n",
    "x=''\n",
    "\n",
    "for indice, linha in EscDispInvertido.iterrows():\n",
    "    \n",
    "    if linha['Marc']<Marc:\n",
    "        x='Sim'\n",
    "        Ident.append(x)\n",
    "        Marc=int(linha['Marc'])\n",
    "            \n",
    "    else:\n",
    "        x='Não'\n",
    "        Ident.append(x)\n",
    "        Marc=int(linha['Marc'])\n",
    "        \n",
    "EscDisp['Excluir?']=Ident[::-1]"
   ]
  },
  {
   "cell_type": "code",
   "execution_count": 46,
   "id": "f699a237-1a14-48ca-b36d-5dd933b8056b",
   "metadata": {},
   "outputs": [
    {
     "name": "stdout",
     "output_type": "stream",
     "text": [
      "Wall time: 42 ms\n"
     ]
    },
    {
     "data": {
      "text/html": [
       "<div>\n",
       "<style scoped>\n",
       "    .dataframe tbody tr th:only-of-type {\n",
       "        vertical-align: middle;\n",
       "    }\n",
       "\n",
       "    .dataframe tbody tr th {\n",
       "        vertical-align: top;\n",
       "    }\n",
       "\n",
       "    .dataframe thead th {\n",
       "        text-align: right;\n",
       "    }\n",
       "</style>\n",
       "<table border=\"1\" class=\"dataframe\">\n",
       "  <thead>\n",
       "    <tr style=\"text-align: right;\">\n",
       "      <th></th>\n",
       "      <th>ID</th>\n",
       "      <th>Data</th>\n",
       "      <th>DH_Ent_Prev_Real</th>\n",
       "      <th>DH_Sai_Prev</th>\n",
       "      <th>Periodo_Prev</th>\n",
       "    </tr>\n",
       "  </thead>\n",
       "  <tbody>\n",
       "    <tr>\n",
       "      <th>0</th>\n",
       "      <td>a1R1L000007It5aUAC</td>\n",
       "      <td>2022-02-01</td>\n",
       "      <td>2022-02-01 06:30:00</td>\n",
       "      <td>2022-02-01 12:30:00</td>\n",
       "      <td>360</td>\n",
       "    </tr>\n",
       "    <tr>\n",
       "      <th>1</th>\n",
       "      <td>a1R1L000007It5aUAC</td>\n",
       "      <td>2022-02-01</td>\n",
       "      <td>2022-02-01 14:30:00</td>\n",
       "      <td>2022-02-01 15:30:00</td>\n",
       "      <td>60</td>\n",
       "    </tr>\n",
       "    <tr>\n",
       "      <th>2</th>\n",
       "      <td>a1R1L000007It5aUAC</td>\n",
       "      <td>2022-02-02</td>\n",
       "      <td>2022-02-02 06:30:00</td>\n",
       "      <td>2022-02-02 13:00:00</td>\n",
       "      <td>390</td>\n",
       "    </tr>\n",
       "    <tr>\n",
       "      <th>3</th>\n",
       "      <td>a1R1L000007It5aUAC</td>\n",
       "      <td>2022-02-02</td>\n",
       "      <td>2022-02-02 14:00:00</td>\n",
       "      <td>2022-02-02 15:30:00</td>\n",
       "      <td>90</td>\n",
       "    </tr>\n",
       "    <tr>\n",
       "      <th>4</th>\n",
       "      <td>a1R1L000007It5aUAC</td>\n",
       "      <td>2022-02-03</td>\n",
       "      <td>2022-02-03 06:30:00</td>\n",
       "      <td>2022-02-03 13:00:00</td>\n",
       "      <td>390</td>\n",
       "    </tr>\n",
       "    <tr>\n",
       "      <th>...</th>\n",
       "      <td>...</td>\n",
       "      <td>...</td>\n",
       "      <td>...</td>\n",
       "      <td>...</td>\n",
       "      <td>...</td>\n",
       "    </tr>\n",
       "    <tr>\n",
       "      <th>23880</th>\n",
       "      <td>a1R41000005iwtKEAQ</td>\n",
       "      <td>2022-02-22</td>\n",
       "      <td>2022-02-22 12:30:00</td>\n",
       "      <td>2022-02-22 15:00:00</td>\n",
       "      <td>150</td>\n",
       "    </tr>\n",
       "    <tr>\n",
       "      <th>23881</th>\n",
       "      <td>a1R41000005iwtKEAQ</td>\n",
       "      <td>2022-02-23</td>\n",
       "      <td>2022-02-23 06:00:00</td>\n",
       "      <td>2022-02-23 11:00:00</td>\n",
       "      <td>300</td>\n",
       "    </tr>\n",
       "    <tr>\n",
       "      <th>23882</th>\n",
       "      <td>a1R41000005iwtKEAQ</td>\n",
       "      <td>2022-02-23</td>\n",
       "      <td>2022-02-23 12:30:00</td>\n",
       "      <td>2022-02-23 14:00:00</td>\n",
       "      <td>90</td>\n",
       "    </tr>\n",
       "    <tr>\n",
       "      <th>23883</th>\n",
       "      <td>a1R41000005iwtKEAQ</td>\n",
       "      <td>2022-02-24</td>\n",
       "      <td>2022-02-24 06:00:00</td>\n",
       "      <td>2022-02-24 11:00:00</td>\n",
       "      <td>300</td>\n",
       "    </tr>\n",
       "    <tr>\n",
       "      <th>23884</th>\n",
       "      <td>a1R41000005iwtKEAQ</td>\n",
       "      <td>2022-02-24</td>\n",
       "      <td>2022-02-24 12:30:00</td>\n",
       "      <td>2022-02-24 15:00:00</td>\n",
       "      <td>150</td>\n",
       "    </tr>\n",
       "  </tbody>\n",
       "</table>\n",
       "<p>23885 rows × 5 columns</p>\n",
       "</div>"
      ],
      "text/plain": [
       "                       ID        Data    DH_Ent_Prev_Real         DH_Sai_Prev  \\\n",
       "0      a1R1L000007It5aUAC  2022-02-01 2022-02-01 06:30:00 2022-02-01 12:30:00   \n",
       "1      a1R1L000007It5aUAC  2022-02-01 2022-02-01 14:30:00 2022-02-01 15:30:00   \n",
       "2      a1R1L000007It5aUAC  2022-02-02 2022-02-02 06:30:00 2022-02-02 13:00:00   \n",
       "3      a1R1L000007It5aUAC  2022-02-02 2022-02-02 14:00:00 2022-02-02 15:30:00   \n",
       "4      a1R1L000007It5aUAC  2022-02-03 2022-02-03 06:30:00 2022-02-03 13:00:00   \n",
       "...                   ...         ...                 ...                 ...   \n",
       "23880  a1R41000005iwtKEAQ  2022-02-22 2022-02-22 12:30:00 2022-02-22 15:00:00   \n",
       "23881  a1R41000005iwtKEAQ  2022-02-23 2022-02-23 06:00:00 2022-02-23 11:00:00   \n",
       "23882  a1R41000005iwtKEAQ  2022-02-23 2022-02-23 12:30:00 2022-02-23 14:00:00   \n",
       "23883  a1R41000005iwtKEAQ  2022-02-24 2022-02-24 06:00:00 2022-02-24 11:00:00   \n",
       "23884  a1R41000005iwtKEAQ  2022-02-24 2022-02-24 12:30:00 2022-02-24 15:00:00   \n",
       "\n",
       "       Periodo_Prev  \n",
       "0               360  \n",
       "1                60  \n",
       "2               390  \n",
       "3                90  \n",
       "4               390  \n",
       "...             ...  \n",
       "23880           150  \n",
       "23881           300  \n",
       "23882            90  \n",
       "23883           300  \n",
       "23884           150  \n",
       "\n",
       "[23885 rows x 5 columns]"
      ]
     },
     "execution_count": 46,
     "metadata": {},
     "output_type": "execute_result"
    }
   ],
   "source": [
    "%%time\n",
    "#Criar Tabela com hora de entrada, hora saída, período previsto e data\n",
    "EscDisp1=EscDisp.loc[EscDisp['Excluir?']=='Não']\n",
    "EscDisp1=EscDisp1[['ID','Data','DH_Ent_Prev_Real','DH_Sai_Prev','Periodo_Prev']]\n",
    "EscDF=EscDisp1.groupby(['ID','Data','DH_Ent_Prev_Real','DH_Sai_Prev','Periodo_Prev'],as_index=False).sum()\n",
    "#Tabela pronta para começar iterações com as outras\n",
    "EscDF"
   ]
  },
  {
   "cell_type": "markdown",
   "id": "f84f2dc1-467c-48de-8670-b6bd6493e69e",
   "metadata": {},
   "source": [
    "###### Tabela Membros para Filtros e iterações com EscDF e TabTL"
   ]
  },
  {
   "cell_type": "code",
   "execution_count": 47,
   "id": "d1f0f1fd-37a5-4beb-9ed6-8c560df58f29",
   "metadata": {},
   "outputs": [
    {
     "name": "stdout",
     "output_type": "stream",
     "text": [
      "Wall time: 3.01 ms\n"
     ]
    }
   ],
   "source": [
    "%%time\n",
    "#Seleção de Colunas\n",
    "MembrosPKL=MembrosPKL[['Data','ID', 'Status_Agente']]"
   ]
  },
  {
   "cell_type": "code",
   "execution_count": 48,
   "id": "8fad927f-a7fa-463b-8c9e-631a7f99c1f7",
   "metadata": {},
   "outputs": [
    {
     "name": "stdout",
     "output_type": "stream",
     "text": [
      "Wall time: 7 ms\n"
     ]
    }
   ],
   "source": [
    "%%time\n",
    "#Remoção de linhas duplicadas\n",
    "MembrosPKL=MembrosPKL.drop_duplicates()"
   ]
  },
  {
   "cell_type": "code",
   "execution_count": 49,
   "id": "7b907f11-b28b-4b50-86ae-c8f4f658c69b",
   "metadata": {},
   "outputs": [
    {
     "name": "stdout",
     "output_type": "stream",
     "text": [
      "Wall time: 33 ms\n"
     ]
    }
   ],
   "source": [
    "%%time\n",
    "#Filtrar não ativos e reorganizar tabela\n",
    "EscDF1=pd.merge(EscDF,MembrosPKL,how='left',on=['ID','Data'])\n",
    "EscDF1=EscDF1.loc[EscDF1['Status_Agente']=='Ativo']\n",
    "EscDF1=EscDF1[['ID','Data','DH_Ent_Prev_Real','DH_Sai_Prev','Periodo_Prev']]\n",
    "EscDF1=EscDF1.groupby(['ID','Data','DH_Ent_Prev_Real','DH_Sai_Prev','Periodo_Prev'],as_index=False).sum()"
   ]
  },
  {
   "cell_type": "code",
   "execution_count": 50,
   "id": "aa02adb3-25bb-4baf-8d6b-e80b9cddfd65",
   "metadata": {},
   "outputs": [
    {
     "name": "stdout",
     "output_type": "stream",
     "text": [
      "Wall time: 3 ms\n"
     ]
    },
    {
     "data": {
      "text/html": [
       "<div>\n",
       "<style scoped>\n",
       "    .dataframe tbody tr th:only-of-type {\n",
       "        vertical-align: middle;\n",
       "    }\n",
       "\n",
       "    .dataframe tbody tr th {\n",
       "        vertical-align: top;\n",
       "    }\n",
       "\n",
       "    .dataframe thead th {\n",
       "        text-align: right;\n",
       "    }\n",
       "</style>\n",
       "<table border=\"1\" class=\"dataframe\">\n",
       "  <thead>\n",
       "    <tr style=\"text-align: right;\">\n",
       "      <th></th>\n",
       "      <th>ID</th>\n",
       "      <th>Data</th>\n",
       "      <th>DH_Ent_Prev_Real</th>\n",
       "      <th>DH_Sai_Prev</th>\n",
       "      <th>Periodo_Prev</th>\n",
       "    </tr>\n",
       "  </thead>\n",
       "  <tbody>\n",
       "  </tbody>\n",
       "</table>\n",
       "</div>"
      ],
      "text/plain": [
       "Empty DataFrame\n",
       "Columns: [ID, Data, DH_Ent_Prev_Real, DH_Sai_Prev, Periodo_Prev]\n",
       "Index: []"
      ]
     },
     "execution_count": 50,
     "metadata": {},
     "output_type": "execute_result"
    }
   ],
   "source": [
    "%%time\n",
    "EscDF1.loc[EscDF1['Periodo_Prev']<0]"
   ]
  },
  {
   "cell_type": "code",
   "execution_count": 51,
   "id": "9616d04c-b914-44fb-bca1-c05827f18098",
   "metadata": {},
   "outputs": [
    {
     "name": "stdout",
     "output_type": "stream",
     "text": [
      "Wall time: 12 s\n"
     ]
    }
   ],
   "source": [
    "%%time\n",
    "#Garantindo a possibilidade de calcular com as colunas data hora entrada e data hora saída, antes estavam como str.\n",
    "DHE=[]\n",
    "DHS=[]\n",
    "de=''\n",
    "ds=''\n",
    "t=''\n",
    "for indice,linha in TabTL.iterrows():\n",
    "    de=dtpar.parse(linha['Data_Hora_Entrada'])\n",
    "    DHE.append(de)\n",
    "    ds=dtpar.parse(linha['Data_Hora_Saída'])\n",
    "    DHS.append(ds)\n",
    "\n",
    "TabTL['Data_Hora_Entrada']=DHE\n",
    "TabTL['Data_Hora_Saída']=DHS"
   ]
  },
  {
   "cell_type": "code",
   "execution_count": 52,
   "id": "f2eb346b-9e57-4840-85b7-b4783dc88de8",
   "metadata": {},
   "outputs": [
    {
     "name": "stdout",
     "output_type": "stream",
     "text": [
      "Wall time: 6min 46s\n"
     ]
    }
   ],
   "source": [
    "%%time\n",
    "#Para cada Linha da Planilha de Escala já filtrada, conferir se houve atividade logada e sua duração\n",
    "\n",
    "TempAtivo=[]\n",
    "\n",
    "t=''\n",
    "t0=''\n",
    "tf=''\n",
    "a=''\n",
    "Atr=''\n",
    "#Verificando caso a caso, se hora de entrada é anterior ou posterior ao horário previsto, \n",
    "#se hora de saída é anterior ou posterior a hora prevista e foi trabalhado dentro do horário previsto\n",
    "\n",
    "for indice,linha in TabTL.iterrows():\n",
    "    FiltroA=EscDF1.loc[EscDF1['ID']==linha['ID']]\n",
    "    FiltroB=FiltroA.loc[FiltroA['Data']==linha['Data']]\n",
    "    #EAE Entra Antes da Entrada\n",
    "    #EDE Entra Depois da Entrada\n",
    "    #SAE Sai Antes da Entrada\n",
    "    #SDE Sai Depois da Entrada\n",
    "    #EAS Entra Antes da Saída\n",
    "    #EDS Entra Depois da Saída\n",
    "    #SAS Sai Antes da Saída\n",
    "    #SDS Sai Depios da Saída\n",
    "    \n",
    "    #Entradas\n",
    "    EAE=FiltroB['DH_Ent_Prev_Real'] >= linha['Data_Hora_Entrada'] ###F1,F2\n",
    "    TEAE=FiltroB[EAE]\n",
    "    EDE=FiltroB['DH_Ent_Prev_Real'] < linha['Data_Hora_Entrada']\n",
    "    TEDE=FiltroB[EDE]\n",
    "    EDEAS=TEDE['DH_Sai_Prev'] > linha['Data_Hora_Entrada']  ###F3,F4 Entra entre hora de entrada e saída\n",
    "    TEDEAS=TEDE[EDEAS]\n",
    "    EDS=FiltroB['DH_Sai_Prev'] <= linha['Data_Hora_Entrada']    ###F5\n",
    "    TEDS=FiltroB[EDS]\n",
    "        \n",
    "    #Entradas e Saídas\n",
    "    EAESDS=TEAE['DH_Sai_Prev'] <= linha['Data_Hora_Saída']       ###F2\n",
    "    TEAESDS=TEAE[EAESDS]\n",
    "    EAESAS=TEAE['DH_Sai_Prev'] > linha['Data_Hora_Saída']        ###F1\n",
    "    TEAESAS=TEAE[EAESAS]\n",
    "    EDEASSAS=TEDEAS['DH_Sai_Prev'] > linha['Data_Hora_Saída']    ###F3\n",
    "    TEDEASSAS=TEDEAS[EDEASSAS]\n",
    "    EDEASSDS=TEDEAS['DH_Sai_Prev'] <= linha['Data_Hora_Saída']   ###F4\n",
    "    TEDEASSDS=TEDEAS[EDEASSDS]\n",
    "    SAE=FiltroB['DH_Ent_Prev_Real'] >= linha['Data_Hora_Saída']   ###F6\n",
    "    TSAE=FiltroB[SAE]\n",
    "    \n",
    "#Entra antes da Entrada sai antes da Saída\n",
    "    for ind,lin in TEAESAS.iterrows():\n",
    "        t0=lin['DH_Ent_Prev_Real']\n",
    "        tf=linha['Data_Hora_Saída']\n",
    "        t=(dt.timedelta.total_seconds(tf-t0))/60\n",
    "        TempAtivo.append([lin['ID'],lin['Data'],lin['DH_Ent_Prev_Real'],lin['DH_Sai_Prev'],int(t)])\n",
    "            \n",
    "#Entra antes da Entrada sai depois da Saída\n",
    "    for ind,lin in TEAESDS.iterrows():\n",
    "        t0=lin['DH_Ent_Prev_Real']\n",
    "        tf=lin['DH_Sai_Prev']\n",
    "        t=(dt.timedelta.total_seconds(tf-t0))/60\n",
    "        TempAtivo.append([lin['ID'],lin['Data'],lin['DH_Ent_Prev_Real'],lin['DH_Sai_Prev'],int(t)])              \n",
    "                    \n",
    "#Entra depois da Entrada sai antes da Saída\n",
    "    for ind,lin in TEDEASSAS.iterrows():\n",
    "        t0=linha['Data_Hora_Entrada']\n",
    "        tf=linha['Data_Hora_Saída']\n",
    "        t=(dt.timedelta.total_seconds(tf-t0))/60\n",
    "        TempAtivo.append([lin['ID'],lin['Data'],lin['DH_Ent_Prev_Real'],lin['DH_Sai_Prev'],int(t)])\n",
    "            \n",
    "#Entra depois da Entrada sai depois da Saída\n",
    "    for ind,lin in TEDEASSDS.iterrows():\n",
    "        t0=linha['Data_Hora_Entrada']\n",
    "        tf=lin['DH_Sai_Prev']\n",
    "        t=(dt.timedelta.total_seconds(tf-t0))/60\n",
    "        TempAtivo.append([lin['ID'],lin['Data'],lin['DH_Ent_Prev_Real'],lin['DH_Sai_Prev'],int(t)])\n",
    "                                \n",
    "#Entra e Sai antes da hora de Entrada\n",
    "    for ind,lin in TSAE.iterrows():\n",
    "        TempAtivo.append([lin['ID'],lin['Data'],lin['DH_Ent_Prev_Real'],lin['DH_Sai_Prev'],0])\n",
    "        \n",
    "#Entra e sai depois da hora de saída\n",
    "    for ind,lin in TEDS.iterrows():\n",
    "        TempAtivo.append([lin['ID'],lin['Data'],lin['DH_Ent_Prev_Real'],lin['DH_Sai_Prev'],0])\n",
    "        \n",
    "        \n",
    "TabelaTempoAtivo=pd.DataFrame(TempAtivo,columns=['ID','Data','DH_Ent_Prev_Real','DH_Sai_Prev','Tempo_Ativo_A'])"
   ]
  },
  {
   "cell_type": "code",
   "execution_count": 53,
   "id": "81dbe89c-f810-4afa-a5cb-234c67b42934",
   "metadata": {},
   "outputs": [
    {
     "name": "stdout",
     "output_type": "stream",
     "text": [
      "Wall time: 6min 48s\n"
     ]
    }
   ],
   "source": [
    "%%time\n",
    "#Para cada Linha da Planilha de Escala já filtrada, verificar atraso\n",
    "\n",
    "Atraso=[]\n",
    "\n",
    "t=''\n",
    "t0=''\n",
    "tf=''\n",
    "a=''\n",
    "Atr=''\n",
    "#Verificando caso a caso, se hora de entrada é anterior ou posterior ao horário previsto, \n",
    "#se hora de saída é anterior ou posterior a hora prevista e foi trabalhado dentro do horário previsto\n",
    "\n",
    "for indice,linha in TabTL.iterrows():\n",
    "    FiltroA=EscDF1.loc[EscDF1['ID']==linha['ID']]\n",
    "    FiltroB=FiltroA.loc[FiltroA['Data']==linha['Data']]\n",
    "    \n",
    "    #EAE Entra Antes da Entrada\n",
    "    #EDE Entra Depois da Entrada\n",
    "    #EDESA Entra Depois da Entrada Antes da Saída\n",
    "    #SAE Sai Antes da Entrada\n",
    "    #SDE Sai Depois da Entrada\n",
    "    #EAS Entra Antes da Saída\n",
    "    #EDS Entra Depois da Saída\n",
    "    #SAS Sai Antes da Saída\n",
    "    #SDS Sai Depios da Saída\n",
    "    \n",
    "    #Entradas\n",
    "    EAE=FiltroB['DH_Ent_Prev_Real'] >= linha['Data_Hora_Entrada']\n",
    "    TEAE=FiltroB[EAE]\n",
    "    EDE=FiltroB['DH_Ent_Prev_Real'] < linha['Data_Hora_Entrada']\n",
    "    TEDE=FiltroB[EDE]\n",
    "    EDEAS=TEDE['DH_Sai_Prev'] > linha['Data_Hora_Entrada']  ### Entra entre hora de entrada e saída\n",
    "    TEDEAS=TEDE[EDEAS]\n",
    "    SAE=FiltroB['DH_Ent_Prev_Real'] >= linha['Data_Hora_Saída']\n",
    "    TSAE=FiltroB[SAE] \n",
    "    \n",
    "    \n",
    "    #Entradas e Saídas\n",
    "    EAESDS=TEAE['DH_Sai_Prev'] <= linha['Data_Hora_Saída']\n",
    "    TEAESDS=TEAE[EAESDS]\n",
    "    EAESAS=TEAE['DH_Sai_Prev'] > linha['Data_Hora_Saída']\n",
    "    TEAESAS=TEAE[EAESAS]\n",
    "    EDEASSAS=TEDEAS['DH_Sai_Prev'] > linha['Data_Hora_Saída']\n",
    "    TEDEASSAS=TEDEAS[EDEASSAS]\n",
    "    EDEASSDS=TEDEAS['DH_Sai_Prev'] <= linha['Data_Hora_Saída']    #Talvez atraso\n",
    "    TEDEASSDS=TEDEAS[EDEASSDS]\n",
    "    EDS=FiltroB['DH_Sai_Prev'] <= linha['Data_Hora_Entrada']       #Atraso\n",
    "    TEDS=FiltroB[EDS]\n",
    "    \n",
    "#Entra antes da Entrada sai antes da Saída\n",
    "    for ind,lin in TEAESAS.iterrows():\n",
    "        Atraso.append([lin['ID'],lin['Data'],lin['DH_Ent_Prev_Real'],lin['DH_Sai_Prev'],1])  \n",
    "            \n",
    "#Entra antes da Entrada sai depois da Saída\n",
    "    for ind,lin in TEAESDS.iterrows():\n",
    "        Atraso.append([lin['ID'],lin['Data'],lin['DH_Ent_Prev_Real'],lin['DH_Sai_Prev'],0])              \n",
    "                    \n",
    "#Entra depois da Entrada sai antes da Saída\n",
    "    for ind,lin in TEDEASSAS.iterrows():\n",
    "        t0=lin['DH_Ent_Prev_Real']\n",
    "        tf=linha['Data_Hora_Entrada']\n",
    "        t=(dt.timedelta.total_seconds(tf-t0))/60\n",
    "        if t>15:\n",
    "            Atraso.append([lin['ID'],lin['Data'],lin['DH_Ent_Prev_Real'],lin['DH_Sai_Prev'],1])\n",
    "        else:\n",
    "            Atraso.append([lin['ID'],lin['Data'],lin['DH_Ent_Prev_Real'],lin['DH_Sai_Prev'],0])\n",
    "            \n",
    "#Entra depois da Entrada sai depois da Saída\n",
    "    for ind,lin in TEDEASSDS.iterrows():\n",
    "        t0=lin['DH_Ent_Prev_Real']\n",
    "        tf=linha['Data_Hora_Entrada']\n",
    "        t=(dt.timedelta.total_seconds(tf-t0))/60\n",
    "        if t>15:\n",
    "            Atraso.append([lin['ID'],lin['Data'],lin['DH_Ent_Prev_Real'],lin['DH_Sai_Prev'],1])\n",
    "        else:\n",
    "            Atraso.append([lin['ID'],lin['Data'],lin['DH_Ent_Prev_Real'],lin['DH_Sai_Prev'],0])\n",
    "                                \n",
    "#Entra e Sai antes da hora de Entrada\n",
    "    for ind,lin in TSAE.iterrows():\n",
    "        Atraso.append([lin['ID'],lin['Data'],lin['DH_Ent_Prev_Real'],lin['DH_Sai_Prev'],0])\n",
    "        \n",
    "#Entra e sai depois da hora de saída\n",
    "    for ind,lin in TEDS.iterrows():\n",
    "        Atraso.append([lin['ID'],lin['Data'],lin['DH_Ent_Prev_Real'],lin['DH_Sai_Prev'],0])\n",
    "        \n",
    "\n",
    "TabelaAtraso=pd.DataFrame(Atraso,columns=['ID','Data','DH_Ent_Prev_Real','DH_Sai_Prev','Atraso'])"
   ]
  },
  {
   "cell_type": "code",
   "execution_count": 54,
   "id": "4a3d6bb4-c14b-4386-badb-9919335ea5ff",
   "metadata": {},
   "outputs": [
    {
     "name": "stdout",
     "output_type": "stream",
     "text": [
      "Wall time: 142 ms\n"
     ]
    }
   ],
   "source": [
    "%%time\n",
    "#Remover dados duplicados das Tabelas TabelaAtraso e TabelaTempoAtivo, em seguida agrupar as duas tabelas por ID e DH_Entr_Prev_Real\n",
    "TabelaAtraso1=TabelaAtraso.drop_duplicates()\n",
    "TabelaTempoAtivo1=TabelaTempoAtivo.drop_duplicates()\n",
    "TabelaTempoAtivo1=TabelaTempoAtivo1.loc[TabelaTempoAtivo1['Tempo_Ativo_A']>=0]\n",
    "\n",
    "TabelaAtraso1=TabelaAtraso1.groupby(['ID','Data','DH_Ent_Prev_Real','DH_Sai_Prev'],as_index=False).sum()\n",
    "TabelaTempoAtivo1=TabelaTempoAtivo1.groupby(['ID','Data','DH_Ent_Prev_Real','DH_Sai_Prev',],as_index=False).sum()"
   ]
  },
  {
   "cell_type": "code",
   "execution_count": 55,
   "id": "35102fd5-b9d3-416d-94df-6e887cd90e3e",
   "metadata": {},
   "outputs": [
    {
     "name": "stdout",
     "output_type": "stream",
     "text": [
      "Wall time: 1.16 s\n"
     ]
    }
   ],
   "source": [
    "%%time\n",
    "#Para a TabelaAtraso1 fazer um marcador verificando se a entrada é a primeira do dia\n",
    "#O marcador irá inserir 1 para ID ou Dia diferentes do anterior se tiver atraso como sim e 0 para atraso==não ou dia e id iguais ao anterior\n",
    "\n",
    "MarcAtr=[]\n",
    "contador=0\n",
    "data=''\n",
    "ide=''\n",
    "\n",
    "for indice, linha in TabelaAtraso1.iterrows():\n",
    "    if linha['Atraso']==1:\n",
    "        if linha['Data']==data and linha['ID']==ide:   #Se existe entrada na mesma data do mesmo id, logo contador=0 pois não é o 1º período\n",
    "            data=linha['Data']\n",
    "            ide=linha['ID']\n",
    "            contador=0\n",
    "            MarcAtr.append(contador)\n",
    "        else:\n",
    "            data=linha['Data']\n",
    "            ide=linha['ID']\n",
    "            contador=1\n",
    "            MarcAtr.append(contador)            \n",
    "        \n",
    "    elif linha['Atraso']==0:\n",
    "        data=linha['Data']\n",
    "        ide=linha['ID']\n",
    "        contador=0\n",
    "        MarcAtr.append(contador)\n",
    "        \n",
    "    else:\n",
    "        data=linha['Data']\n",
    "        ide=linha['ID']\n",
    "        contador=0\n",
    "        MarcAtr.append(contador)\n",
    "\n",
    "TabelaAtraso1['MarcAtr']=MarcAtr\n",
    "#Desse modo todos os períodos terão marcação de atraso, porém apenas os primeiros períodos atrasados de cada dia receberão 1 os outros estarão como 0\n",
    "#Removendo a coluna Atraso e as de data hora de entrada e saída, será possível agrupar e a soma será 1 para os dias em que houve atraso no 1º período\n",
    "#Essa limpesa de colunas e agrupamento será feita após os merges das tabelas de atraso e tempo ativo com a EscDF1, apenas a coluna Atraso deve ser removida antes do Merge"
   ]
  },
  {
   "cell_type": "code",
   "execution_count": 56,
   "id": "41f8ab95-68a5-4be9-8a51-8adb4411ef98",
   "metadata": {},
   "outputs": [
    {
     "name": "stdout",
     "output_type": "stream",
     "text": [
      "Wall time: 3 ms\n"
     ]
    }
   ],
   "source": [
    "%%time\n",
    "#Finalização da Tabela Atraso para o merge, deixando apenas o Marcador de Atraso no 1º período e removendo a outra Coluna\n",
    "TabelaAtrasoF=TabelaAtraso1[['ID','Data','DH_Ent_Prev_Real','DH_Sai_Prev','MarcAtr']]"
   ]
  },
  {
   "cell_type": "code",
   "execution_count": 57,
   "id": "94ffd2bc-2b33-4c5e-a2d5-eb17311bd898",
   "metadata": {},
   "outputs": [
    {
     "name": "stdout",
     "output_type": "stream",
     "text": [
      "Wall time: 15 ms\n"
     ]
    }
   ],
   "source": [
    "%%time\n",
    "#Merge EscDF1 com TabelasTempoAtivo (colunas iguais 'ID','Data','DH_Ent_Prev_Real','DH_Sai_Prev')\n",
    "TabSF1=pd.merge(EscDF1,TabelaTempoAtivo1,how='outer',on=['ID','Data','DH_Ent_Prev_Real','DH_Sai_Prev'])"
   ]
  },
  {
   "cell_type": "code",
   "execution_count": 58,
   "id": "2163d2b8-a331-4e03-841a-89af4cf4e5ad",
   "metadata": {},
   "outputs": [
    {
     "name": "stdout",
     "output_type": "stream",
     "text": [
      "Wall time: 15 ms\n"
     ]
    }
   ],
   "source": [
    "%%time\n",
    "#Merge do resultante com TempoAtrasoF (colunas iguais 'ID','Data','DH_Ent_Prev_Real','DH_Sai_Prev')\n",
    "TabSF2=pd.merge(TabSF1,TabelaAtrasoF,how='outer',on=['ID','Data','DH_Ent_Prev_Real','DH_Sai_Prev'])"
   ]
  },
  {
   "cell_type": "code",
   "execution_count": 59,
   "id": "9cd97f92-a39b-4012-8c4f-81d881bde2d1",
   "metadata": {},
   "outputs": [
    {
     "name": "stdout",
     "output_type": "stream",
     "text": [
      "Wall time: 15 ms\n"
     ]
    }
   ],
   "source": [
    "%%time\n",
    "#preenchendo possíveis campos NAN depois do merge com 0\n",
    "TabSF2['Tempo_Ativo_A']=TabSF2['Tempo_Ativo_A'].fillna(0)\n",
    "TabSF2['MarcAtr']=TabSF2['MarcAtr'].fillna(0)\n",
    "\n",
    "#Fazer groupby com ID e Data e somar outras variáveis, finalizando com apenas 1 ID por dia.\n",
    "TabSF=TabSF2[['ID','Data','Tempo_Ativo_A','Periodo_Prev','MarcAtr']]\n",
    "TabSF=TabSF.groupby(['ID','Data'],as_index=False).sum()"
   ]
  },
  {
   "cell_type": "code",
   "execution_count": 60,
   "id": "c0143d65-08f7-40d6-be2b-42057b3ee001",
   "metadata": {},
   "outputs": [
    {
     "name": "stdout",
     "output_type": "stream",
     "text": [
      "MarcAtr\n",
      "1.0    8573\n",
      "0.0    2678\n",
      "dtype: int64 Empty DataFrame\n",
      "Columns: [ID, Data, Tempo_Ativo_A, Periodo_Prev, MarcAtr]\n",
      "Index: []\n",
      "Wall time: 9 ms\n"
     ]
    }
   ],
   "source": [
    "%%time\n",
    "#testes\n",
    "print(TabSF.value_counts(subset='MarcAtr'),TabSF.loc[TabSF['Periodo_Prev']<0])"
   ]
  },
  {
   "cell_type": "code",
   "execution_count": 61,
   "id": "8641f804-0a67-42aa-a225-610e1cc52754",
   "metadata": {},
   "outputs": [
    {
     "ename": "NameError",
     "evalue": "name 'TabSF3' is not defined",
     "output_type": "error",
     "traceback": [
      "\u001b[1;31m---------------------------------------------------------------------------\u001b[0m",
      "\u001b[1;31mNameError\u001b[0m                                 Traceback (most recent call last)",
      "\u001b[1;32m<timed exec>\u001b[0m in \u001b[0;36m<module>\u001b[1;34m\u001b[0m\n",
      "\u001b[1;31mNameError\u001b[0m: name 'TabSF3' is not defined"
     ]
    }
   ],
   "source": [
    "%%time\n",
    "#Criando Marcador Disponibilidade e Meta Disponibilidade\n",
    "TabSF_backup=TabSF\n",
    "TabSF['%Disp']=100*TabSF['Tempo_Ativo_A']/TabSF['Periodo_Prev']\n",
    "\n",
    "Meta=[]\n",
    "Pontos=[]\n",
    "for indice,linha in TabSF3.iterrows():\n",
    "    if linha['%Disp']>=80:\n",
    "        Meta.append('Meta Batida')\n",
    "        Pontos.append(1)\n",
    "    elif linha['%Disp']<50:\n",
    "        Meta.append('Não Bateu')\n",
    "        Pontos.append(-1)\n",
    "    else:\n",
    "        Meta.append('Não Bateu')\n",
    "        Pontos.append(0)\n",
    "\n",
    "TabSF['Meta']=Meta\n",
    "TabSF['Pontos_Dia']=Pontos"
   ]
  },
  {
   "cell_type": "code",
   "execution_count": 62,
   "id": "9fa8f33e-4a6f-44c0-b8d9-9fdc807f7fba",
   "metadata": {},
   "outputs": [
    {
     "ename": "KeyError",
     "evalue": "\"['Pontos_Dia'] not in index\"",
     "output_type": "error",
     "traceback": [
      "\u001b[1;31m---------------------------------------------------------------------------\u001b[0m",
      "\u001b[1;31mKeyError\u001b[0m                                  Traceback (most recent call last)",
      "\u001b[1;32m<timed exec>\u001b[0m in \u001b[0;36m<module>\u001b[1;34m\u001b[0m\n",
      "\u001b[1;32m~\\anaconda3\\lib\\site-packages\\pandas\\core\\frame.py\u001b[0m in \u001b[0;36m__getitem__\u001b[1;34m(self, key)\u001b[0m\n\u001b[0;32m   3462\u001b[0m             \u001b[1;32mif\u001b[0m \u001b[0mis_iterator\u001b[0m\u001b[1;33m(\u001b[0m\u001b[0mkey\u001b[0m\u001b[1;33m)\u001b[0m\u001b[1;33m:\u001b[0m\u001b[1;33m\u001b[0m\u001b[1;33m\u001b[0m\u001b[0m\n\u001b[0;32m   3463\u001b[0m                 \u001b[0mkey\u001b[0m \u001b[1;33m=\u001b[0m \u001b[0mlist\u001b[0m\u001b[1;33m(\u001b[0m\u001b[0mkey\u001b[0m\u001b[1;33m)\u001b[0m\u001b[1;33m\u001b[0m\u001b[1;33m\u001b[0m\u001b[0m\n\u001b[1;32m-> 3464\u001b[1;33m             \u001b[0mindexer\u001b[0m \u001b[1;33m=\u001b[0m \u001b[0mself\u001b[0m\u001b[1;33m.\u001b[0m\u001b[0mloc\u001b[0m\u001b[1;33m.\u001b[0m\u001b[0m_get_listlike_indexer\u001b[0m\u001b[1;33m(\u001b[0m\u001b[0mkey\u001b[0m\u001b[1;33m,\u001b[0m \u001b[0maxis\u001b[0m\u001b[1;33m=\u001b[0m\u001b[1;36m1\u001b[0m\u001b[1;33m)\u001b[0m\u001b[1;33m[\u001b[0m\u001b[1;36m1\u001b[0m\u001b[1;33m]\u001b[0m\u001b[1;33m\u001b[0m\u001b[1;33m\u001b[0m\u001b[0m\n\u001b[0m\u001b[0;32m   3465\u001b[0m \u001b[1;33m\u001b[0m\u001b[0m\n\u001b[0;32m   3466\u001b[0m         \u001b[1;31m# take() does not accept boolean indexers\u001b[0m\u001b[1;33m\u001b[0m\u001b[1;33m\u001b[0m\u001b[0m\n",
      "\u001b[1;32m~\\anaconda3\\lib\\site-packages\\pandas\\core\\indexing.py\u001b[0m in \u001b[0;36m_get_listlike_indexer\u001b[1;34m(self, key, axis)\u001b[0m\n\u001b[0;32m   1312\u001b[0m             \u001b[0mkeyarr\u001b[0m\u001b[1;33m,\u001b[0m \u001b[0mindexer\u001b[0m\u001b[1;33m,\u001b[0m \u001b[0mnew_indexer\u001b[0m \u001b[1;33m=\u001b[0m \u001b[0max\u001b[0m\u001b[1;33m.\u001b[0m\u001b[0m_reindex_non_unique\u001b[0m\u001b[1;33m(\u001b[0m\u001b[0mkeyarr\u001b[0m\u001b[1;33m)\u001b[0m\u001b[1;33m\u001b[0m\u001b[1;33m\u001b[0m\u001b[0m\n\u001b[0;32m   1313\u001b[0m \u001b[1;33m\u001b[0m\u001b[0m\n\u001b[1;32m-> 1314\u001b[1;33m         \u001b[0mself\u001b[0m\u001b[1;33m.\u001b[0m\u001b[0m_validate_read_indexer\u001b[0m\u001b[1;33m(\u001b[0m\u001b[0mkeyarr\u001b[0m\u001b[1;33m,\u001b[0m \u001b[0mindexer\u001b[0m\u001b[1;33m,\u001b[0m \u001b[0maxis\u001b[0m\u001b[1;33m)\u001b[0m\u001b[1;33m\u001b[0m\u001b[1;33m\u001b[0m\u001b[0m\n\u001b[0m\u001b[0;32m   1315\u001b[0m \u001b[1;33m\u001b[0m\u001b[0m\n\u001b[0;32m   1316\u001b[0m         if needs_i8_conversion(ax.dtype) or isinstance(\n",
      "\u001b[1;32m~\\anaconda3\\lib\\site-packages\\pandas\\core\\indexing.py\u001b[0m in \u001b[0;36m_validate_read_indexer\u001b[1;34m(self, key, indexer, axis)\u001b[0m\n\u001b[0;32m   1375\u001b[0m \u001b[1;33m\u001b[0m\u001b[0m\n\u001b[0;32m   1376\u001b[0m             \u001b[0mnot_found\u001b[0m \u001b[1;33m=\u001b[0m \u001b[0mlist\u001b[0m\u001b[1;33m(\u001b[0m\u001b[0mensure_index\u001b[0m\u001b[1;33m(\u001b[0m\u001b[0mkey\u001b[0m\u001b[1;33m)\u001b[0m\u001b[1;33m[\u001b[0m\u001b[0mmissing_mask\u001b[0m\u001b[1;33m.\u001b[0m\u001b[0mnonzero\u001b[0m\u001b[1;33m(\u001b[0m\u001b[1;33m)\u001b[0m\u001b[1;33m[\u001b[0m\u001b[1;36m0\u001b[0m\u001b[1;33m]\u001b[0m\u001b[1;33m]\u001b[0m\u001b[1;33m.\u001b[0m\u001b[0munique\u001b[0m\u001b[1;33m(\u001b[0m\u001b[1;33m)\u001b[0m\u001b[1;33m)\u001b[0m\u001b[1;33m\u001b[0m\u001b[1;33m\u001b[0m\u001b[0m\n\u001b[1;32m-> 1377\u001b[1;33m             \u001b[1;32mraise\u001b[0m \u001b[0mKeyError\u001b[0m\u001b[1;33m(\u001b[0m\u001b[1;34mf\"{not_found} not in index\"\u001b[0m\u001b[1;33m)\u001b[0m\u001b[1;33m\u001b[0m\u001b[1;33m\u001b[0m\u001b[0m\n\u001b[0m\u001b[0;32m   1378\u001b[0m \u001b[1;33m\u001b[0m\u001b[0m\n\u001b[0;32m   1379\u001b[0m \u001b[1;33m\u001b[0m\u001b[0m\n",
      "\u001b[1;31mKeyError\u001b[0m: \"['Pontos_Dia'] not in index\""
     ]
    }
   ],
   "source": [
    "%%time\n",
    "#Calculando o total de pontos para cada funcionário\n",
    "TabSFP=TabSF\n",
    "TabSFP=TabSFP[['ID','Pontos_Dia']]\n",
    "TabSFP=TabSFP.groupby(['ID'],as_index=False).sum()\n",
    "TabSFP['Pontuação']=TabSFP['Pontos_Dia']\n",
    "TabSFP=TabSFP[['ID','Pontuação']]"
   ]
  },
  {
   "cell_type": "code",
   "execution_count": 63,
   "id": "a82300b3-0937-45bf-9b62-df2ab4650656",
   "metadata": {},
   "outputs": [
    {
     "name": "stdout",
     "output_type": "stream",
     "text": [
      "Wall time: 40 ms\n"
     ]
    }
   ],
   "source": [
    "%%time\n",
    "#incluindo Pontuação na TabSF\n",
    "TSF=pd.merge(TabSF,TabSFP,how='outer',on='ID')"
   ]
  },
  {
   "cell_type": "code",
   "execution_count": 64,
   "id": "c9d3d5da-3507-464f-a297-684ee81af374",
   "metadata": {},
   "outputs": [
    {
     "ename": "KeyError",
     "evalue": "'MarcAtr'",
     "output_type": "error",
     "traceback": [
      "\u001b[1;31m---------------------------------------------------------------------------\u001b[0m",
      "\u001b[1;31mKeyError\u001b[0m                                  Traceback (most recent call last)",
      "\u001b[1;32m~\\anaconda3\\lib\\site-packages\\pandas\\core\\indexes\\base.py\u001b[0m in \u001b[0;36mget_loc\u001b[1;34m(self, key, method, tolerance)\u001b[0m\n\u001b[0;32m   3360\u001b[0m             \u001b[1;32mtry\u001b[0m\u001b[1;33m:\u001b[0m\u001b[1;33m\u001b[0m\u001b[1;33m\u001b[0m\u001b[0m\n\u001b[1;32m-> 3361\u001b[1;33m                 \u001b[1;32mreturn\u001b[0m \u001b[0mself\u001b[0m\u001b[1;33m.\u001b[0m\u001b[0m_engine\u001b[0m\u001b[1;33m.\u001b[0m\u001b[0mget_loc\u001b[0m\u001b[1;33m(\u001b[0m\u001b[0mcasted_key\u001b[0m\u001b[1;33m)\u001b[0m\u001b[1;33m\u001b[0m\u001b[1;33m\u001b[0m\u001b[0m\n\u001b[0m\u001b[0;32m   3362\u001b[0m             \u001b[1;32mexcept\u001b[0m \u001b[0mKeyError\u001b[0m \u001b[1;32mas\u001b[0m \u001b[0merr\u001b[0m\u001b[1;33m:\u001b[0m\u001b[1;33m\u001b[0m\u001b[1;33m\u001b[0m\u001b[0m\n",
      "\u001b[1;32m~\\anaconda3\\lib\\site-packages\\pandas\\_libs\\index.pyx\u001b[0m in \u001b[0;36mpandas._libs.index.IndexEngine.get_loc\u001b[1;34m()\u001b[0m\n",
      "\u001b[1;32m~\\anaconda3\\lib\\site-packages\\pandas\\_libs\\index.pyx\u001b[0m in \u001b[0;36mpandas._libs.index.IndexEngine.get_loc\u001b[1;34m()\u001b[0m\n",
      "\u001b[1;32mpandas\\_libs\\hashtable_class_helper.pxi\u001b[0m in \u001b[0;36mpandas._libs.hashtable.PyObjectHashTable.get_item\u001b[1;34m()\u001b[0m\n",
      "\u001b[1;32mpandas\\_libs\\hashtable_class_helper.pxi\u001b[0m in \u001b[0;36mpandas._libs.hashtable.PyObjectHashTable.get_item\u001b[1;34m()\u001b[0m\n",
      "\u001b[1;31mKeyError\u001b[0m: 'MarcAtr'",
      "\nThe above exception was the direct cause of the following exception:\n",
      "\u001b[1;31mKeyError\u001b[0m                                  Traceback (most recent call last)",
      "\u001b[1;32m<timed exec>\u001b[0m in \u001b[0;36m<module>\u001b[1;34m\u001b[0m\n",
      "\u001b[1;32m~\\anaconda3\\lib\\site-packages\\pandas\\core\\series.py\u001b[0m in \u001b[0;36m__getitem__\u001b[1;34m(self, key)\u001b[0m\n\u001b[0;32m    940\u001b[0m \u001b[1;33m\u001b[0m\u001b[0m\n\u001b[0;32m    941\u001b[0m         \u001b[1;32melif\u001b[0m \u001b[0mkey_is_scalar\u001b[0m\u001b[1;33m:\u001b[0m\u001b[1;33m\u001b[0m\u001b[1;33m\u001b[0m\u001b[0m\n\u001b[1;32m--> 942\u001b[1;33m             \u001b[1;32mreturn\u001b[0m \u001b[0mself\u001b[0m\u001b[1;33m.\u001b[0m\u001b[0m_get_value\u001b[0m\u001b[1;33m(\u001b[0m\u001b[0mkey\u001b[0m\u001b[1;33m)\u001b[0m\u001b[1;33m\u001b[0m\u001b[1;33m\u001b[0m\u001b[0m\n\u001b[0m\u001b[0;32m    943\u001b[0m \u001b[1;33m\u001b[0m\u001b[0m\n\u001b[0;32m    944\u001b[0m         \u001b[1;32mif\u001b[0m \u001b[0mis_hashable\u001b[0m\u001b[1;33m(\u001b[0m\u001b[0mkey\u001b[0m\u001b[1;33m)\u001b[0m\u001b[1;33m:\u001b[0m\u001b[1;33m\u001b[0m\u001b[1;33m\u001b[0m\u001b[0m\n",
      "\u001b[1;32m~\\anaconda3\\lib\\site-packages\\pandas\\core\\series.py\u001b[0m in \u001b[0;36m_get_value\u001b[1;34m(self, label, takeable)\u001b[0m\n\u001b[0;32m   1049\u001b[0m \u001b[1;33m\u001b[0m\u001b[0m\n\u001b[0;32m   1050\u001b[0m         \u001b[1;31m# Similar to Index.get_value, but we do not fall back to positional\u001b[0m\u001b[1;33m\u001b[0m\u001b[1;33m\u001b[0m\u001b[0m\n\u001b[1;32m-> 1051\u001b[1;33m         \u001b[0mloc\u001b[0m \u001b[1;33m=\u001b[0m \u001b[0mself\u001b[0m\u001b[1;33m.\u001b[0m\u001b[0mindex\u001b[0m\u001b[1;33m.\u001b[0m\u001b[0mget_loc\u001b[0m\u001b[1;33m(\u001b[0m\u001b[0mlabel\u001b[0m\u001b[1;33m)\u001b[0m\u001b[1;33m\u001b[0m\u001b[1;33m\u001b[0m\u001b[0m\n\u001b[0m\u001b[0;32m   1052\u001b[0m         \u001b[1;32mreturn\u001b[0m \u001b[0mself\u001b[0m\u001b[1;33m.\u001b[0m\u001b[0mindex\u001b[0m\u001b[1;33m.\u001b[0m\u001b[0m_get_values_for_loc\u001b[0m\u001b[1;33m(\u001b[0m\u001b[0mself\u001b[0m\u001b[1;33m,\u001b[0m \u001b[0mloc\u001b[0m\u001b[1;33m,\u001b[0m \u001b[0mlabel\u001b[0m\u001b[1;33m)\u001b[0m\u001b[1;33m\u001b[0m\u001b[1;33m\u001b[0m\u001b[0m\n\u001b[0;32m   1053\u001b[0m \u001b[1;33m\u001b[0m\u001b[0m\n",
      "\u001b[1;32m~\\anaconda3\\lib\\site-packages\\pandas\\core\\indexes\\base.py\u001b[0m in \u001b[0;36mget_loc\u001b[1;34m(self, key, method, tolerance)\u001b[0m\n\u001b[0;32m   3361\u001b[0m                 \u001b[1;32mreturn\u001b[0m \u001b[0mself\u001b[0m\u001b[1;33m.\u001b[0m\u001b[0m_engine\u001b[0m\u001b[1;33m.\u001b[0m\u001b[0mget_loc\u001b[0m\u001b[1;33m(\u001b[0m\u001b[0mcasted_key\u001b[0m\u001b[1;33m)\u001b[0m\u001b[1;33m\u001b[0m\u001b[1;33m\u001b[0m\u001b[0m\n\u001b[0;32m   3362\u001b[0m             \u001b[1;32mexcept\u001b[0m \u001b[0mKeyError\u001b[0m \u001b[1;32mas\u001b[0m \u001b[0merr\u001b[0m\u001b[1;33m:\u001b[0m\u001b[1;33m\u001b[0m\u001b[1;33m\u001b[0m\u001b[0m\n\u001b[1;32m-> 3363\u001b[1;33m                 \u001b[1;32mraise\u001b[0m \u001b[0mKeyError\u001b[0m\u001b[1;33m(\u001b[0m\u001b[0mkey\u001b[0m\u001b[1;33m)\u001b[0m \u001b[1;32mfrom\u001b[0m \u001b[0merr\u001b[0m\u001b[1;33m\u001b[0m\u001b[1;33m\u001b[0m\u001b[0m\n\u001b[0m\u001b[0;32m   3364\u001b[0m \u001b[1;33m\u001b[0m\u001b[0m\n\u001b[0;32m   3365\u001b[0m         \u001b[1;32mif\u001b[0m \u001b[0mis_scalar\u001b[0m\u001b[1;33m(\u001b[0m\u001b[0mkey\u001b[0m\u001b[1;33m)\u001b[0m \u001b[1;32mand\u001b[0m \u001b[0misna\u001b[0m\u001b[1;33m(\u001b[0m\u001b[0mkey\u001b[0m\u001b[1;33m)\u001b[0m \u001b[1;32mand\u001b[0m \u001b[1;32mnot\u001b[0m \u001b[0mself\u001b[0m\u001b[1;33m.\u001b[0m\u001b[0mhasnans\u001b[0m\u001b[1;33m:\u001b[0m\u001b[1;33m\u001b[0m\u001b[1;33m\u001b[0m\u001b[0m\n",
      "\u001b[1;31mKeyError\u001b[0m: 'MarcAtr'"
     ]
    }
   ],
   "source": [
    "%%time\n",
    "#Criando coluna Atraso\n",
    "Atraso=[]\n",
    "for indice,linha in TSF.iterrows():\n",
    "    \n",
    "    if int(linha['MarcAtr'])==1:\n",
    "        Atraso.append('Sim')\n",
    "    else:\n",
    "        Atraso.append('Não')\n",
    "\n",
    "TSF['Atraso']=Atraso"
   ]
  },
  {
   "cell_type": "code",
   "execution_count": 65,
   "id": "aa8fd14a-6da4-4858-809a-0a0e5594a467",
   "metadata": {},
   "outputs": [
    {
     "data": {
      "text/html": [
       "<div>\n",
       "<style scoped>\n",
       "    .dataframe tbody tr th:only-of-type {\n",
       "        vertical-align: middle;\n",
       "    }\n",
       "\n",
       "    .dataframe tbody tr th {\n",
       "        vertical-align: top;\n",
       "    }\n",
       "\n",
       "    .dataframe thead th {\n",
       "        text-align: right;\n",
       "    }\n",
       "</style>\n",
       "<table border=\"1\" class=\"dataframe\">\n",
       "  <thead>\n",
       "    <tr style=\"text-align: right;\">\n",
       "      <th></th>\n",
       "      <th>index</th>\n",
       "      <th>Tempo_Escalado_Atendimento</th>\n",
       "      <th>ID</th>\n",
       "      <th>Data</th>\n",
       "      <th>Tempo_Falta_Atendimento</th>\n",
       "      <th>Tempo_Escalado_Projetos</th>\n",
       "    </tr>\n",
       "  </thead>\n",
       "  <tbody>\n",
       "    <tr>\n",
       "      <th>13253</th>\n",
       "      <td>13253</td>\n",
       "      <td>1440</td>\n",
       "      <td>a1R3j0000043nigEAA</td>\n",
       "      <td>2022-02-08</td>\n",
       "      <td>1440</td>\n",
       "      <td>0</td>\n",
       "    </tr>\n",
       "    <tr>\n",
       "      <th>13252</th>\n",
       "      <td>13252</td>\n",
       "      <td>1440</td>\n",
       "      <td>a1R3j0000043nKzEAI</td>\n",
       "      <td>2022-02-07</td>\n",
       "      <td>1440</td>\n",
       "      <td>0</td>\n",
       "    </tr>\n",
       "    <tr>\n",
       "      <th>13251</th>\n",
       "      <td>13251</td>\n",
       "      <td>1440</td>\n",
       "      <td>a1R3j000003gH1aEAE</td>\n",
       "      <td>2022-02-08</td>\n",
       "      <td>1440</td>\n",
       "      <td>0</td>\n",
       "    </tr>\n",
       "    <tr>\n",
       "      <th>13250</th>\n",
       "      <td>13250</td>\n",
       "      <td>1410</td>\n",
       "      <td>a1R3j0000043nigEAA</td>\n",
       "      <td>2022-02-16</td>\n",
       "      <td>1410</td>\n",
       "      <td>0</td>\n",
       "    </tr>\n",
       "    <tr>\n",
       "      <th>13249</th>\n",
       "      <td>13249</td>\n",
       "      <td>1410</td>\n",
       "      <td>a1R3j0000043nKzEAI</td>\n",
       "      <td>2022-02-08</td>\n",
       "      <td>1410</td>\n",
       "      <td>0</td>\n",
       "    </tr>\n",
       "    <tr>\n",
       "      <th>...</th>\n",
       "      <td>...</td>\n",
       "      <td>...</td>\n",
       "      <td>...</td>\n",
       "      <td>...</td>\n",
       "      <td>...</td>\n",
       "      <td>...</td>\n",
       "    </tr>\n",
       "    <tr>\n",
       "      <th>4</th>\n",
       "      <td>4</td>\n",
       "      <td>0</td>\n",
       "      <td>a1R1L000007POQyUAO</td>\n",
       "      <td>2022-02-04</td>\n",
       "      <td>0</td>\n",
       "      <td>540</td>\n",
       "    </tr>\n",
       "    <tr>\n",
       "      <th>3</th>\n",
       "      <td>3</td>\n",
       "      <td>0</td>\n",
       "      <td>a1R1L000007POQyUAO</td>\n",
       "      <td>2022-02-03</td>\n",
       "      <td>0</td>\n",
       "      <td>540</td>\n",
       "    </tr>\n",
       "    <tr>\n",
       "      <th>2</th>\n",
       "      <td>2</td>\n",
       "      <td>0</td>\n",
       "      <td>a1R1L000007IvtrUAC</td>\n",
       "      <td>2022-02-27</td>\n",
       "      <td>0</td>\n",
       "      <td>0</td>\n",
       "    </tr>\n",
       "    <tr>\n",
       "      <th>1</th>\n",
       "      <td>1</td>\n",
       "      <td>0</td>\n",
       "      <td>a1R1L000007IvtrUAC</td>\n",
       "      <td>2022-02-25</td>\n",
       "      <td>0</td>\n",
       "      <td>0</td>\n",
       "    </tr>\n",
       "    <tr>\n",
       "      <th>0</th>\n",
       "      <td>0</td>\n",
       "      <td>0</td>\n",
       "      <td>a1R1L000007IvtrUAC</td>\n",
       "      <td>2022-02-11</td>\n",
       "      <td>0</td>\n",
       "      <td>0</td>\n",
       "    </tr>\n",
       "  </tbody>\n",
       "</table>\n",
       "<p>13254 rows × 6 columns</p>\n",
       "</div>"
      ],
      "text/plain": [
       "       index  Tempo_Escalado_Atendimento                  ID        Data  \\\n",
       "13253  13253                        1440  a1R3j0000043nigEAA  2022-02-08   \n",
       "13252  13252                        1440  a1R3j0000043nKzEAI  2022-02-07   \n",
       "13251  13251                        1440  a1R3j000003gH1aEAE  2022-02-08   \n",
       "13250  13250                        1410  a1R3j0000043nigEAA  2022-02-16   \n",
       "13249  13249                        1410  a1R3j0000043nKzEAI  2022-02-08   \n",
       "...      ...                         ...                 ...         ...   \n",
       "4          4                           0  a1R1L000007POQyUAO  2022-02-04   \n",
       "3          3                           0  a1R1L000007POQyUAO  2022-02-03   \n",
       "2          2                           0  a1R1L000007IvtrUAC  2022-02-27   \n",
       "1          1                           0  a1R1L000007IvtrUAC  2022-02-25   \n",
       "0          0                           0  a1R1L000007IvtrUAC  2022-02-11   \n",
       "\n",
       "       Tempo_Falta_Atendimento  Tempo_Escalado_Projetos  \n",
       "13253                     1440                        0  \n",
       "13252                     1440                        0  \n",
       "13251                     1440                        0  \n",
       "13250                     1410                        0  \n",
       "13249                     1410                        0  \n",
       "...                        ...                      ...  \n",
       "4                            0                      540  \n",
       "3                            0                      540  \n",
       "2                            0                        0  \n",
       "1                            0                        0  \n",
       "0                            0                        0  \n",
       "\n",
       "[13254 rows x 6 columns]"
      ]
     },
     "execution_count": 65,
     "metadata": {},
     "output_type": "execute_result"
    }
   ],
   "source": [
    "\n",
    "Esc.groupby(['Tempo_Escalado_Atendimento','ID','Data','Tempo_Falta_Atendimento','Tempo_Escalado_Projetos'],as_index=False).sum().reset_index().sort_index(ascending=False)"
   ]
  },
  {
   "cell_type": "code",
   "execution_count": 66,
   "id": "1f4f19b6-215a-4a92-aced-c9f70c8b0dad",
   "metadata": {},
   "outputs": [],
   "source": [
    "#União das tabelas Escala e Tabela Tempo Logado (tenho: Tempo Escalado, Tempo Em Projetos, Tempo Logado)\n",
    "EscMem=pd.merge(Esc,TTL,how='outer',on=['Data','ID'])"
   ]
  },
  {
   "cell_type": "code",
   "execution_count": 67,
   "id": "076a3ae1-4fd1-4f71-9c85-a2e4dfdd6aff",
   "metadata": {},
   "outputs": [
    {
     "ename": "KeyError",
     "evalue": "'Data'",
     "output_type": "error",
     "traceback": [
      "\u001b[1;31m---------------------------------------------------------------------------\u001b[0m",
      "\u001b[1;31mKeyError\u001b[0m                                  Traceback (most recent call last)",
      "\u001b[1;32m<timed exec>\u001b[0m in \u001b[0;36m<module>\u001b[1;34m\u001b[0m\n",
      "\u001b[1;32m~\\anaconda3\\lib\\site-packages\\pandas\\core\\reshape\\merge.py\u001b[0m in \u001b[0;36mmerge\u001b[1;34m(left, right, how, on, left_on, right_on, left_index, right_index, sort, suffixes, copy, indicator, validate)\u001b[0m\n\u001b[0;32m    104\u001b[0m     \u001b[0mvalidate\u001b[0m\u001b[1;33m:\u001b[0m \u001b[0mstr\u001b[0m \u001b[1;33m|\u001b[0m \u001b[1;32mNone\u001b[0m \u001b[1;33m=\u001b[0m \u001b[1;32mNone\u001b[0m\u001b[1;33m,\u001b[0m\u001b[1;33m\u001b[0m\u001b[1;33m\u001b[0m\u001b[0m\n\u001b[0;32m    105\u001b[0m ) -> DataFrame:\n\u001b[1;32m--> 106\u001b[1;33m     op = _MergeOperation(\n\u001b[0m\u001b[0;32m    107\u001b[0m         \u001b[0mleft\u001b[0m\u001b[1;33m,\u001b[0m\u001b[1;33m\u001b[0m\u001b[1;33m\u001b[0m\u001b[0m\n\u001b[0;32m    108\u001b[0m         \u001b[0mright\u001b[0m\u001b[1;33m,\u001b[0m\u001b[1;33m\u001b[0m\u001b[1;33m\u001b[0m\u001b[0m\n",
      "\u001b[1;32m~\\anaconda3\\lib\\site-packages\\pandas\\core\\reshape\\merge.py\u001b[0m in \u001b[0;36m__init__\u001b[1;34m(self, left, right, how, on, left_on, right_on, axis, left_index, right_index, sort, suffixes, copy, indicator, validate)\u001b[0m\n\u001b[0;32m    697\u001b[0m             \u001b[0mself\u001b[0m\u001b[1;33m.\u001b[0m\u001b[0mright_join_keys\u001b[0m\u001b[1;33m,\u001b[0m\u001b[1;33m\u001b[0m\u001b[1;33m\u001b[0m\u001b[0m\n\u001b[0;32m    698\u001b[0m             \u001b[0mself\u001b[0m\u001b[1;33m.\u001b[0m\u001b[0mjoin_names\u001b[0m\u001b[1;33m,\u001b[0m\u001b[1;33m\u001b[0m\u001b[1;33m\u001b[0m\u001b[0m\n\u001b[1;32m--> 699\u001b[1;33m         ) = self._get_merge_keys()\n\u001b[0m\u001b[0;32m    700\u001b[0m \u001b[1;33m\u001b[0m\u001b[0m\n\u001b[0;32m    701\u001b[0m         \u001b[1;31m# validate the merge keys dtypes. We may need to coerce\u001b[0m\u001b[1;33m\u001b[0m\u001b[1;33m\u001b[0m\u001b[0m\n",
      "\u001b[1;32m~\\anaconda3\\lib\\site-packages\\pandas\\core\\reshape\\merge.py\u001b[0m in \u001b[0;36m_get_merge_keys\u001b[1;34m(self)\u001b[0m\n\u001b[0;32m   1094\u001b[0m                     \u001b[1;32mif\u001b[0m \u001b[1;32mnot\u001b[0m \u001b[0mis_rkey\u001b[0m\u001b[1;33m(\u001b[0m\u001b[0mrk\u001b[0m\u001b[1;33m)\u001b[0m\u001b[1;33m:\u001b[0m\u001b[1;33m\u001b[0m\u001b[1;33m\u001b[0m\u001b[0m\n\u001b[0;32m   1095\u001b[0m                         \u001b[1;32mif\u001b[0m \u001b[0mrk\u001b[0m \u001b[1;32mis\u001b[0m \u001b[1;32mnot\u001b[0m \u001b[1;32mNone\u001b[0m\u001b[1;33m:\u001b[0m\u001b[1;33m\u001b[0m\u001b[1;33m\u001b[0m\u001b[0m\n\u001b[1;32m-> 1096\u001b[1;33m                             \u001b[0mright_keys\u001b[0m\u001b[1;33m.\u001b[0m\u001b[0mappend\u001b[0m\u001b[1;33m(\u001b[0m\u001b[0mright\u001b[0m\u001b[1;33m.\u001b[0m\u001b[0m_get_label_or_level_values\u001b[0m\u001b[1;33m(\u001b[0m\u001b[0mrk\u001b[0m\u001b[1;33m)\u001b[0m\u001b[1;33m)\u001b[0m\u001b[1;33m\u001b[0m\u001b[1;33m\u001b[0m\u001b[0m\n\u001b[0m\u001b[0;32m   1097\u001b[0m                         \u001b[1;32melse\u001b[0m\u001b[1;33m:\u001b[0m\u001b[1;33m\u001b[0m\u001b[1;33m\u001b[0m\u001b[0m\n\u001b[0;32m   1098\u001b[0m                             \u001b[1;31m# work-around for merge_asof(right_index=True)\u001b[0m\u001b[1;33m\u001b[0m\u001b[1;33m\u001b[0m\u001b[0m\n",
      "\u001b[1;32m~\\anaconda3\\lib\\site-packages\\pandas\\core\\generic.py\u001b[0m in \u001b[0;36m_get_label_or_level_values\u001b[1;34m(self, key, axis)\u001b[0m\n\u001b[0;32m   1777\u001b[0m             \u001b[0mvalues\u001b[0m \u001b[1;33m=\u001b[0m \u001b[0mself\u001b[0m\u001b[1;33m.\u001b[0m\u001b[0maxes\u001b[0m\u001b[1;33m[\u001b[0m\u001b[0maxis\u001b[0m\u001b[1;33m]\u001b[0m\u001b[1;33m.\u001b[0m\u001b[0mget_level_values\u001b[0m\u001b[1;33m(\u001b[0m\u001b[0mkey\u001b[0m\u001b[1;33m)\u001b[0m\u001b[1;33m.\u001b[0m\u001b[0m_values\u001b[0m\u001b[1;33m\u001b[0m\u001b[1;33m\u001b[0m\u001b[0m\n\u001b[0;32m   1778\u001b[0m         \u001b[1;32melse\u001b[0m\u001b[1;33m:\u001b[0m\u001b[1;33m\u001b[0m\u001b[1;33m\u001b[0m\u001b[0m\n\u001b[1;32m-> 1779\u001b[1;33m             \u001b[1;32mraise\u001b[0m \u001b[0mKeyError\u001b[0m\u001b[1;33m(\u001b[0m\u001b[0mkey\u001b[0m\u001b[1;33m)\u001b[0m\u001b[1;33m\u001b[0m\u001b[1;33m\u001b[0m\u001b[0m\n\u001b[0m\u001b[0;32m   1780\u001b[0m \u001b[1;33m\u001b[0m\u001b[0m\n\u001b[0;32m   1781\u001b[0m         \u001b[1;31m# Check for duplicates\u001b[0m\u001b[1;33m\u001b[0m\u001b[1;33m\u001b[0m\u001b[0m\n",
      "\u001b[1;31mKeyError\u001b[0m: 'Data'"
     ]
    }
   ],
   "source": [
    "%%time\n",
    "#Criação da Tabela Final e organizando os dados\n",
    " \n",
    "TabFinal=pd.merge(EscMem,TSF,how='outer',on=['Data','ID'])\n",
    "TabFinal['t_Atendimento_min']=TabFinal['Tempo_Escalado_Atendimento']\n",
    "TabFinal['t_Projetos_min']=TabFinal['Tempo_Escalado_Projetos']\n",
    "TabFinal['t_Logado_min']=TabFinal['Min_Log']\n",
    "TabFinal['Disp_%']=TabFinal['%Disp']\n",
    "TabFinal['Meta_Disp']=TabFinal['Meta']\n",
    "TabFinal['Pontuação']=TabFinal['Pontuação']\n",
    "\n",
    "TabFinal=TabFinal[['Data','ID','t_Atendimento_min','t_Projetos_min','t_Logado_min','Disp_%','Meta_Disp','Pontuação','Atraso']]\n",
    "TabFinal['t_Atendimento_min']=TabFinal['t_Atendimento_min'].fillna(0).astype(int)\n",
    "TabFinal['t_Projetos_min']=TabFinal['t_Projetos_min'].fillna(0).astype(int)\n",
    "TabFinal['t_Logado_min']=TabFinal['t_Logado_min'].fillna(0).astype(int)\n",
    "TabFinal['Disp_%']=TabFinal['Disp_%'].fillna(np.mean(TabFinal['Disp_%'])).astype(int)\n",
    "TabFinal['Meta_Disp']=TabFinal['Meta_Disp'].fillna('-')\n",
    "TabFinal['Pontuação']=TabFinal['Pontuação'].fillna(0).astype(int)\n",
    "TabFinal['Atraso']=TabFinal['Atraso'].fillna('-')"
   ]
  },
  {
   "cell_type": "code",
   "execution_count": 68,
   "id": "c1acc486-d0d3-441e-a9f7-28f4433623ea",
   "metadata": {},
   "outputs": [
    {
     "ename": "NameError",
     "evalue": "name 'TabFinal' is not defined",
     "output_type": "error",
     "traceback": [
      "\u001b[1;31m---------------------------------------------------------------------------\u001b[0m",
      "\u001b[1;31mNameError\u001b[0m                                 Traceback (most recent call last)",
      "\u001b[1;32m<timed exec>\u001b[0m in \u001b[0;36m<module>\u001b[1;34m\u001b[0m\n",
      "\u001b[1;31mNameError\u001b[0m: name 'TabFinal' is not defined"
     ]
    }
   ],
   "source": [
    "%%time\n",
    "AvgDisp=np.mean(TabFinal['Disp_%'])\n",
    "Resto=100-AvgDisp\n",
    "Pizza={'%': [np.mean(TabFinal['Disp_%']),100-np.mean(TabFinal['Disp_%'])]}\n",
    "Label_list=['Disponível','Indisponível']\n",
    "Pizzadf=pd.DataFrame(data=Pizza)\n",
    "Pizzadf.index=['Disponível','Indisponível']\n",
    "Pizzadf"
   ]
  },
  {
   "cell_type": "code",
   "execution_count": 69,
   "id": "ad0ff603-5e43-4971-a441-8b0a0206fe24",
   "metadata": {},
   "outputs": [
    {
     "ename": "NameError",
     "evalue": "name 'TabFinal' is not defined",
     "output_type": "error",
     "traceback": [
      "\u001b[1;31m---------------------------------------------------------------------------\u001b[0m",
      "\u001b[1;31mNameError\u001b[0m                                 Traceback (most recent call last)",
      "\u001b[1;32m<timed exec>\u001b[0m in \u001b[0;36m<module>\u001b[1;34m\u001b[0m\n",
      "\u001b[1;31mNameError\u001b[0m: name 'TabFinal' is not defined"
     ]
    }
   ],
   "source": [
    "%%time\n",
    "TabFinal.to_csv('RelatorioFinal.csv')\n",
    "TabFinal.to_pkl('RelatorioFinal.pkl')"
   ]
  },
  {
   "cell_type": "code",
   "execution_count": 70,
   "id": "31658e19-e03c-45c3-b200-82851f59fd74",
   "metadata": {},
   "outputs": [
    {
     "name": "stderr",
     "output_type": "stream",
     "text": [
      "UsageError: %%time is a cell magic, but the cell body is empty. Did you mean the line magic %time (single %)?\n"
     ]
    }
   ],
   "source": [
    "%%time\n"
   ]
  },
  {
   "cell_type": "code",
   "execution_count": null,
   "id": "96773053-c759-466f-ab69-dda72fb94671",
   "metadata": {},
   "outputs": [],
   "source": [
    "%%time\n"
   ]
  },
  {
   "cell_type": "code",
   "execution_count": null,
   "id": "c1fef481-6401-48e3-9773-091008ff6177",
   "metadata": {},
   "outputs": [],
   "source": [
    "%%time\n"
   ]
  },
  {
   "cell_type": "code",
   "execution_count": null,
   "id": "61f54c5e-faea-449e-8c67-16fcab567654",
   "metadata": {},
   "outputs": [],
   "source": [
    "%%time\n"
   ]
  },
  {
   "cell_type": "markdown",
   "id": "e2dcf619-3495-4cc3-8c07-46a36045dc15",
   "metadata": {},
   "source": [
    "### Apresentação dos Resultados"
   ]
  },
  {
   "cell_type": "markdown",
   "id": "faa69c74-2303-45a8-819d-f6e8aba6a8c5",
   "metadata": {},
   "source": [
    "#### Tabela Solicitada\n"
   ]
  },
  {
   "cell_type": "code",
   "execution_count": null,
   "id": "7052c5f2-fe03-4e77-8147-457fd0a52ebd",
   "metadata": {},
   "outputs": [],
   "source": [
    "TabFinal"
   ]
  },
  {
   "cell_type": "markdown",
   "id": "c3993ee1-e963-4f4f-95ab-1b8f70685806",
   "metadata": {},
   "source": [
    "#### Gráficos"
   ]
  },
  {
   "cell_type": "code",
   "execution_count": null,
   "id": "cc69972a-3984-4e9c-b30f-c8b3d045162a",
   "metadata": {},
   "outputs": [],
   "source": [
    "AtendimentoXProjetos=pyplot.scatter(TabFinal['t_Atendimento_min'], TabFinal['t_Projetos_min'])\n",
    "pyplot.title('Comparação tempo Atendimento x Projetos')\n",
    "pyplot.show()"
   ]
  },
  {
   "cell_type": "code",
   "execution_count": null,
   "id": "afaf3a06-6cb7-4c3b-80d6-bcfdc786511d",
   "metadata": {},
   "outputs": [],
   "source": [
    "pyplot.hist(TabFinal['t_Atendimento_min'],50)\n",
    "pyplot.axvline(TabFinal['t_Atendimento_min'].mean(), color='k', linestyle='dashed', linewidth=1) \n",
    "pyplot.title('Encantadore x Minutos Escalados para Atendimento')\n",
    "pyplot.show()"
   ]
  },
  {
   "cell_type": "code",
   "execution_count": null,
   "id": "195d1334-e71b-4166-b78a-fe3b16fadaab",
   "metadata": {},
   "outputs": [],
   "source": [
    "pyplot.hist(TabFinal['t_Projetos_min'],30)\n",
    "pyplot.axvline(TabFinal['t_Projetos_min'].mean(), color='k', linestyle='dashed', linewidth=1) \n",
    "pyplot.title('Encantadore x Minutos em Projetos')\n",
    "pyplot.show()"
   ]
  },
  {
   "cell_type": "code",
   "execution_count": null,
   "id": "c0d59250-8635-48ed-a51b-f72d2e5ae951",
   "metadata": {},
   "outputs": [],
   "source": [
    "pyplot.hist(TabFinal['t_Projetos_min'],30)\n",
    "pyplot.axvline(TabFinal['t_Projetos_min'].mean(), color='k', linestyle='dashed', linewidth=1) \n",
    "pyplot.title('Encantadore x Minutos Logado')\n",
    "pyplot.show()"
   ]
  },
  {
   "cell_type": "code",
   "execution_count": null,
   "id": "f23d35ce-f4b2-4c1a-b492-20bc6cc39e7e",
   "metadata": {},
   "outputs": [],
   "source": [
    "pyplot.pie(Pizza,labels=Label_list, pctdistance=1)\n",
    "pyplot.title('Disponibilidade')\n"
   ]
  }
 ],
 "metadata": {
  "kernelspec": {
   "display_name": "Python 3 (ipykernel)",
   "language": "python",
   "name": "python3"
  },
  "language_info": {
   "codemirror_mode": {
    "name": "ipython",
    "version": 3
   },
   "file_extension": ".py",
   "mimetype": "text/x-python",
   "name": "python",
   "nbconvert_exporter": "python",
   "pygments_lexer": "ipython3",
   "version": "3.9.7"
  },
  "toc-autonumbering": false,
  "toc-showcode": false,
  "toc-showmarkdowntxt": false
 },
 "nbformat": 4,
 "nbformat_minor": 5
}
